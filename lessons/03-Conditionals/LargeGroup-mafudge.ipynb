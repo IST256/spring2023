{
 "cells": [
  {
   "cell_type": "markdown",
   "metadata": {},
   "source": [
    "# Code Samples From Large Group\n",
    "\n",
    "Place your notes and code samples from large group here."
   ]
  },
  {
   "cell_type": "code",
   "execution_count": 7,
   "metadata": {},
   "outputs": [],
   "source": [
    "gpa = 4"
   ]
  },
  {
   "cell_type": "code",
   "execution_count": 8,
   "metadata": {},
   "outputs": [
    {
     "data": {
      "text/plain": [
       "True"
      ]
     },
     "execution_count": 8,
     "metadata": {},
     "output_type": "execute_result"
    }
   ],
   "source": [
    "gpa > 3.2"
   ]
  },
  {
   "cell_type": "code",
   "execution_count": 9,
   "metadata": {},
   "outputs": [
    {
     "data": {
      "text/plain": [
       "False"
      ]
     },
     "execution_count": 9,
     "metadata": {},
     "output_type": "execute_result"
    }
   ],
   "source": [
    "gpa == 2.8"
   ]
  },
  {
   "cell_type": "code",
   "execution_count": 11,
   "metadata": {},
   "outputs": [
    {
     "name": "stdout",
     "output_type": "stream",
     "text": [
      "How much milk is left? .2\n",
      "Time to buy more milk\n",
      "done!\n"
     ]
    }
   ],
   "source": [
    "milk = float(input(\"How much milk is left? \"))\n",
    "if milk < 0.5:\n",
    "    print(\"Time to buy more milk\")\n",
    "print(\"done!\")\n"
   ]
  },
  {
   "cell_type": "code",
   "execution_count": 16,
   "metadata": {},
   "outputs": [
    {
     "name": "stdout",
     "output_type": "stream",
     "text": [
      "How much milk is left? 0\n",
      "Time to buy more milk\n",
      "Buy more milk? [Y/N]? N\n",
      "Okay rolling the dice on your cereal situation\n",
      "done!\n"
     ]
    }
   ],
   "source": [
    "milk = float(input(\"How much milk is left? \"))\n",
    "if milk < 0.5:\n",
    "    print(\"Time to buy more milk\")\n",
    "    choice = input(\"Buy more milk? [Y/N]? \")\n",
    "    if choice == \"Y\":\n",
    "        print(\"Contacting instacart...\")\n",
    "    else:\n",
    "        print(\"Okay rolling the dice on your cereal situation\")\n",
    "else:\n",
    "    print(\"There's enough milk!\")\n",
    "print(\"done!\")"
   ]
  },
  {
   "cell_type": "code",
   "execution_count": null,
   "metadata": {},
   "outputs": [],
   "source": []
  },
  {
   "cell_type": "code",
   "execution_count": 17,
   "metadata": {},
   "outputs": [],
   "source": [
    "# Importing other people's code\n",
    "\n",
    "from coursetools.demos.smartlights import SmartLights"
   ]
  },
  {
   "cell_type": "code",
   "execution_count": 18,
   "metadata": {},
   "outputs": [
    {
     "name": "stdout",
     "output_type": "stream",
     "text": [
      "https://smartlights.ist256.com/key/sdajkfhlksjhdflkjashdflk\n"
     ]
    }
   ],
   "source": [
    "netid = \"sdajkfhlksjhdflkjashdflk\" # USE YOUR NETID\n",
    "website = f\"https://smartlights.ist256.com/key/{netid}\"\n",
    "print(website)"
   ]
  },
  {
   "cell_type": "code",
   "execution_count": 26,
   "metadata": {},
   "outputs": [
    {
     "data": {
      "text/plain": [
       "['on']"
      ]
     },
     "execution_count": 26,
     "metadata": {},
     "output_type": "execute_result"
    }
   ],
   "source": [
    "SmartLights(netid).on()"
   ]
  },
  {
   "cell_type": "code",
   "execution_count": 21,
   "metadata": {},
   "outputs": [
    {
     "data": {
      "text/plain": [
       "['off']"
      ]
     },
     "execution_count": 21,
     "metadata": {},
     "output_type": "execute_result"
    }
   ],
   "source": [
    "SmartLights(netid).off()"
   ]
  },
  {
   "cell_type": "code",
   "execution_count": 25,
   "metadata": {},
   "outputs": [
    {
     "name": "stdout",
     "output_type": "stream",
     "text": [
      "Yay! Light is off. Dad is happy!\n"
     ]
    }
   ],
   "source": [
    "if SmartLights(netid).status(0) == 'on':\n",
    "    print(\"Damn it you left the light on again!\")\n",
    "    SmartLights(netid).off(0)\n",
    "else:\n",
    "    print(\"Yay! Light is off. Dad is happy!\")"
   ]
  },
  {
   "cell_type": "code",
   "execution_count": 27,
   "metadata": {},
   "outputs": [
    {
     "name": "stdout",
     "output_type": "stream",
     "text": [
      "https://smartlights.ist256.com/count/2/key/sdajkfhlksjhdflkjashdflk\n"
     ]
    }
   ],
   "source": [
    "netid = \"sdajkfhlksjhdflkjashdflk\" # USE YOUR NETID\n",
    "website = f\"https://smartlights.ist256.com/count/2/key/{netid}\"\n",
    "print(website)"
   ]
  },
  {
   "cell_type": "code",
   "execution_count": 53,
   "metadata": {},
   "outputs": [
    {
     "data": {
      "text/plain": [
       "'on'"
      ]
     },
     "execution_count": 53,
     "metadata": {},
     "output_type": "execute_result"
    }
   ],
   "source": [
    "SmartLights(netid).on(0)"
   ]
  },
  {
   "cell_type": "code",
   "execution_count": 51,
   "metadata": {},
   "outputs": [
    {
     "data": {
      "text/plain": [
       "'on'"
      ]
     },
     "execution_count": 51,
     "metadata": {},
     "output_type": "execute_result"
    }
   ],
   "source": [
    "SmartLights(netid).on(1)"
   ]
  },
  {
   "cell_type": "code",
   "execution_count": 48,
   "metadata": {},
   "outputs": [
    {
     "data": {
      "text/plain": [
       "['off', 'off']"
      ]
     },
     "execution_count": 48,
     "metadata": {},
     "output_type": "execute_result"
    }
   ],
   "source": [
    "SmartLights(netid).off()"
   ]
  },
  {
   "cell_type": "code",
   "execution_count": 44,
   "metadata": {},
   "outputs": [
    {
     "name": "stdout",
     "output_type": "stream",
     "text": [
      "Right Bulb On!\n"
     ]
    }
   ],
   "source": [
    "if SmartLights(netid).status(0)==\"on\" and SmartLights(netid).status(1)==\"off\":\n",
    "    print(\"Left Bulb On!\")\n",
    "elif SmartLights(netid).status(0) ==\"off\" and SmartLights(netid).status(1)==\"on\":\n",
    "    print(\"Right Bulb On!\")\n",
    "elif SmartLights(netid).status(0) ==\"off\" and SmartLights(netid).status(1)==\"off\":\n",
    "    print(\"Lights Off\")\n",
    "else:\n",
    "    print(\"Both lights on!\")\n",
    "\n"
   ]
  },
  {
   "cell_type": "code",
   "execution_count": 49,
   "metadata": {},
   "outputs": [
    {
     "name": "stdout",
     "output_type": "stream",
     "text": [
      "I know for sure both lights are off! \n"
     ]
    }
   ],
   "source": [
    "if SmartLights(netid).status(0)=='off' and SmartLights(netid).status(1)=='off':\n",
    "    print(\"I know for sure both lights are off! \")"
   ]
  },
  {
   "cell_type": "code",
   "execution_count": 54,
   "metadata": {},
   "outputs": [
    {
     "name": "stdout",
     "output_type": "stream",
     "text": [
      "I know for at least one light is on!\n"
     ]
    }
   ],
   "source": [
    "if SmartLights(netid).status(0)=='on' or SmartLights(netid).status(1)=='on':\n",
    "    print(\"I know for at least one light is on!\")"
   ]
  },
  {
   "cell_type": "code",
   "execution_count": 55,
   "metadata": {},
   "outputs": [
    {
     "name": "stdout",
     "output_type": "stream",
     "text": [
      "enter an integer:100\n",
      "A:bigger than 10\n",
      "B:bigger than 10\n",
      "B:bigger than 20\n"
     ]
    }
   ],
   "source": [
    "x = int(input(\"enter an integer:\"))\n",
    "# one single statement. only one block executes\n",
    "if x>10:\n",
    "    print(\"A:bigger than 10\")\n",
    "elif x>20:\n",
    "    print(\"A:bigger than 20\")    \n",
    "# Independent if's, each True Boolean executes a block\n",
    "if x>10:\n",
    "    print(\"B:bigger than 10\")\n",
    "if x>20:\n",
    "    print(\"B:bigger than 20\")"
   ]
  },
  {
   "cell_type": "code",
   "execution_count": 8,
   "metadata": {},
   "outputs": [
    {
     "name": "stdout",
     "output_type": "stream",
     "text": [
      "How many points? 60\n",
      "F\n",
      "0.0\n"
     ]
    }
   ],
   "source": [
    "# use variables\n",
    "points = int(input(\"How many points? \"))\n",
    "\n",
    "if points > 100:\n",
    "    grade = \"A\"\n",
    "    grade_points = 4.0\n",
    "elif points >90:\n",
    "    grade = \"A-\"\n",
    "    grade_points =3.66\n",
    "else:\n",
    "    grade = \"F\"\n",
    "    grade_points = 0.0\n",
    "print(grade)\n",
    "print(grade_points)"
   ]
  },
  {
   "cell_type": "code",
   "execution_count": 9,
   "metadata": {},
   "outputs": [
    {
     "name": "stdout",
     "output_type": "stream",
     "text": [
      "Enter your age: sdjgh\n"
     ]
    },
    {
     "ename": "ValueError",
     "evalue": "invalid literal for int() with base 10: 'sdjgh'",
     "output_type": "error",
     "traceback": [
      "\u001b[0;31m---------------------------------------------------------------------------\u001b[0m",
      "\u001b[0;31mValueError\u001b[0m                                Traceback (most recent call last)",
      "\u001b[0;32m/tmp/ipykernel_937/1751054075.py\u001b[0m in \u001b[0;36m<module>\u001b[0;34m\u001b[0m\n\u001b[0;32m----> 1\u001b[0;31m \u001b[0mage\u001b[0m \u001b[0;34m=\u001b[0m \u001b[0mint\u001b[0m\u001b[0;34m(\u001b[0m\u001b[0minput\u001b[0m\u001b[0;34m(\u001b[0m\u001b[0;34m\"Enter your age: \"\u001b[0m\u001b[0;34m)\u001b[0m\u001b[0;34m)\u001b[0m\u001b[0;34m\u001b[0m\u001b[0;34m\u001b[0m\u001b[0m\n\u001b[0m\u001b[1;32m      2\u001b[0m \u001b[0mprint\u001b[0m\u001b[0;34m(\u001b[0m\u001b[0;34mf\"You are {age} years old.\"\u001b[0m\u001b[0;34m)\u001b[0m\u001b[0;34m\u001b[0m\u001b[0;34m\u001b[0m\u001b[0m\n",
      "\u001b[0;31mValueError\u001b[0m: invalid literal for int() with base 10: 'sdjgh'"
     ]
    }
   ],
   "source": [
    "age = int(input(\"Enter your age: \"))\n",
    "print(f\"You are {age} years old.\")\n"
   ]
  },
  {
   "cell_type": "code",
   "execution_count": 6,
   "metadata": {},
   "outputs": [
    {
     "name": "stdout",
     "output_type": "stream",
     "text": [
      "Enter your age: sjkdafghjklsdah\n",
      "You need to enter a number, please!!!\n"
     ]
    }
   ],
   "source": [
    "try:\n",
    "    age = int(input(\"Enter your age: \"))\n",
    "    print(f\"You are {age} years old.\")\n",
    "except ValueError:\n",
    "    print(\"You need to enter a number, please!!!\")"
   ]
  },
  {
   "cell_type": "code",
   "execution_count": null,
   "metadata": {},
   "outputs": [],
   "source": [
    "\n",
    "    "
   ]
  },
  {
   "cell_type": "code",
   "execution_count": null,
   "metadata": {},
   "outputs": [],
   "source": []
  }
 ],
 "metadata": {
  "kernelspec": {
   "display_name": "Python 3 (ipykernel)",
   "language": "python",
   "name": "python3"
  },
  "language_info": {
   "codemirror_mode": {
    "name": "ipython",
    "version": 3
   },
   "file_extension": ".py",
   "mimetype": "text/x-python",
   "name": "python",
   "nbconvert_exporter": "python",
   "pygments_lexer": "ipython3",
   "version": "3.9.7"
  },
  "varInspector": {
   "cols": {
    "lenName": 16,
    "lenType": 16,
    "lenVar": 40
   },
   "kernels_config": {
    "python": {
     "delete_cmd_postfix": "",
     "delete_cmd_prefix": "del ",
     "library": "var_list.py",
     "varRefreshCmd": "print(var_dic_list())"
    },
    "r": {
     "delete_cmd_postfix": ") ",
     "delete_cmd_prefix": "rm(",
     "library": "var_list.r",
     "varRefreshCmd": "cat(var_dic_list()) "
    }
   },
   "position": {
    "height": "144.857px",
    "left": "697.143px",
    "right": "20px",
    "top": "129px",
    "width": "350px"
   },
   "types_to_exclude": [
    "module",
    "function",
    "builtin_function_or_method",
    "instance",
    "_Feature"
   ],
   "window_display": false
  }
 },
 "nbformat": 4,
 "nbformat_minor": 4
}
