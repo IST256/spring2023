{
 "cells": [
  {
   "cell_type": "markdown",
   "id": "66532fa8",
   "metadata": {},
   "source": [
    "# Smart Lights !!!\n",
    "\n",
    "This example demonstrates how a \"smart\" light bulb would work in code.  \n",
    "There is a lot of magic going on here but as we progress through the course we will learn how this works.  \n",
    "For now, embrace the magic! Proof you don't have to know how code works to use it!"
   ]
  },
  {
   "cell_type": "code",
   "execution_count": 1,
   "id": "de02d70f",
   "metadata": {},
   "outputs": [],
   "source": [
    "# Importing other people's code\n",
    "from coursetools.demos.smartlights import SmartLights"
   ]
  },
  {
   "cell_type": "markdown",
   "id": "8f21478e",
   "metadata": {},
   "source": [
    "To use the smartlights, you need a **key**.   \n",
    "Since the lights are simluated, the key represents you own personal set of lights.   \n",
    "Your lights are displayed at a unique webpage.  "
   ]
  },
  {
   "cell_type": "code",
   "execution_count": 2,
   "id": "d85802fe",
   "metadata": {},
   "outputs": [
    {
     "name": "stdout",
     "output_type": "stream",
     "text": [
      "https://smartlights.ist256.com/count/2/key/mafudge\n"
     ]
    }
   ],
   "source": [
    "key = \"mafudge\" # use your netid for the key, that way you get your own page of smartlights\n",
    "website = f\"https://smartlights.ist256.com/count/2/key/{key}\"\n",
    "print(website)"
   ]
  },
  {
   "cell_type": "markdown",
   "id": "b9bf2868",
   "metadata": {},
   "source": [
    "To control your smartlights use `SmartLights(\"netid\")` where `netid` is your netid of course.\n",
    "\n",
    "The methods are:\n",
    "- `on(n)` Turn bulb `n` on\n",
    "- `off(n)` Turn bulb `n` off\n",
    "- `status(n)` Get the stats of bulb `n` either `\"on\"` or `\"off\"`"
   ]
  },
  {
   "cell_type": "code",
   "execution_count": 7,
   "id": "b283b56a",
   "metadata": {},
   "outputs": [
    {
     "data": {
      "text/plain": [
       "'on'"
      ]
     },
     "execution_count": 7,
     "metadata": {},
     "output_type": "execute_result"
    }
   ],
   "source": [
    "SmartLights(\"mafudge\").on(0)"
   ]
  },
  {
   "cell_type": "code",
   "execution_count": 5,
   "id": "f21256c2",
   "metadata": {},
   "outputs": [
    {
     "data": {
      "text/plain": [
       "'off'"
      ]
     },
     "execution_count": 5,
     "metadata": {},
     "output_type": "execute_result"
    }
   ],
   "source": [
    "SmartLights(key).off(0)"
   ]
  },
  {
   "cell_type": "code",
   "execution_count": 8,
   "id": "c72b4bad",
   "metadata": {},
   "outputs": [
    {
     "name": "stdout",
     "output_type": "stream",
     "text": [
      "Don't forget to turn off the lights!\n"
     ]
    }
   ],
   "source": [
    "if SmartLights(key).status(0) == \"on\":\n",
    "    print(\"Don't forget to turn off the lights!\")\n",
    "else:\n",
    "    print(\"You are an energy saver - lights are off!\")"
   ]
  },
  {
   "cell_type": "code",
   "execution_count": null,
   "id": "cbc9f672",
   "metadata": {},
   "outputs": [],
   "source": []
  }
 ],
 "metadata": {
  "kernelspec": {
   "display_name": "Python 3 (ipykernel)",
   "language": "python",
   "name": "python3"
  },
  "language_info": {
   "codemirror_mode": {
    "name": "ipython",
    "version": 3
   },
   "file_extension": ".py",
   "mimetype": "text/x-python",
   "name": "python",
   "nbconvert_exporter": "python",
   "pygments_lexer": "ipython3",
   "version": "3.9.7"
  },
  "varInspector": {
   "cols": {
    "lenName": 16,
    "lenType": 16,
    "lenVar": 40
   },
   "kernels_config": {
    "python": {
     "delete_cmd_postfix": "",
     "delete_cmd_prefix": "del ",
     "library": "var_list.py",
     "varRefreshCmd": "print(var_dic_list())"
    },
    "r": {
     "delete_cmd_postfix": ") ",
     "delete_cmd_prefix": "rm(",
     "library": "var_list.r",
     "varRefreshCmd": "cat(var_dic_list()) "
    }
   },
   "types_to_exclude": [
    "module",
    "function",
    "builtin_function_or_method",
    "instance",
    "_Feature"
   ],
   "window_display": false
  }
 },
 "nbformat": 4,
 "nbformat_minor": 5
}
