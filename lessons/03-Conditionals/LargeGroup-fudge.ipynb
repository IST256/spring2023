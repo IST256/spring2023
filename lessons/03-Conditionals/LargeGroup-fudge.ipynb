{
 "cells": [
  {
   "cell_type": "markdown",
   "metadata": {},
   "source": [
    "# Code Samples From Large Group\n"
   ]
  },
  {
   "cell_type": "code",
   "execution_count": 6,
   "metadata": {},
   "outputs": [
    {
     "name": "stdout",
     "output_type": "stream",
     "text": [
      "How much milk to do you have? 0.6\n",
      "Ordering more Milk...\n"
     ]
    }
   ],
   "source": [
    "THRESHOLD = 0.75\n",
    "milk = float(input(\"How much milk to do you have? \"))\n",
    "if milk < THRESHOLD:\n",
    "    # reorder\n",
    "    print(\"Ordering more Milk...\")\n",
    "else:\n",
    "    print(\"You don't need milk. Threshold not met!\")\n",
    "    print(f\"Milk: {milk} Threshold: {THRESHOLD}\")"
   ]
  },
  {
   "cell_type": "code",
   "execution_count": 7,
   "metadata": {},
   "outputs": [],
   "source": [
    "raining = False\n",
    "snowing = True\n",
    "age = 45"
   ]
  },
  {
   "cell_type": "code",
   "execution_count": 8,
   "metadata": {},
   "outputs": [
    {
     "data": {
      "text/plain": [
       "True"
      ]
     },
     "execution_count": 8,
     "metadata": {},
     "output_type": "execute_result"
    }
   ],
   "source": [
    "raining or age > 10"
   ]
  },
  {
   "cell_type": "code",
   "execution_count": 9,
   "metadata": {},
   "outputs": [
    {
     "data": {
      "text/plain": [
       "False"
      ]
     },
     "execution_count": 9,
     "metadata": {},
     "output_type": "execute_result"
    }
   ],
   "source": [
    "age < 18 and raining"
   ]
  },
  {
   "cell_type": "code",
   "execution_count": 10,
   "metadata": {},
   "outputs": [
    {
     "data": {
      "text/plain": [
       "False"
      ]
     },
     "execution_count": 10,
     "metadata": {},
     "output_type": "execute_result"
    }
   ],
   "source": [
    "age >= 18 and not snowing"
   ]
  },
  {
   "cell_type": "code",
   "execution_count": 11,
   "metadata": {},
   "outputs": [
    {
     "data": {
      "text/plain": [
       "True"
      ]
     },
     "execution_count": 11,
     "metadata": {},
     "output_type": "execute_result"
    }
   ],
   "source": [
    "not snowing or not raining"
   ]
  },
  {
   "cell_type": "code",
   "execution_count": 12,
   "metadata": {},
   "outputs": [
    {
     "data": {
      "text/plain": [
       "False"
      ]
     },
     "execution_count": 12,
     "metadata": {},
     "output_type": "execute_result"
    }
   ],
   "source": [
    "age == 45 and not snowing"
   ]
  },
  {
   "cell_type": "code",
   "execution_count": 13,
   "metadata": {},
   "outputs": [
    {
     "name": "stdout",
     "output_type": "stream",
     "text": [
      "enter an integer100\n",
      "A:bigger than 10\n",
      "B:bigger than 10\n",
      "B:bigger than 20\n"
     ]
    }
   ],
   "source": [
    "x = int(input(\"enter an integer\"))\n",
    "# one single statement. only one block executes\n",
    "if x>10:\n",
    "    print(\"A:bigger than 10\")\n",
    "elif x>20:\n",
    "    print(\"A:bigger than 20\")   \n",
    "    \n",
    "# Independent if's, each True Boolean executes a block\n",
    "if x>10:\n",
    "    print(\"B:bigger than 10\")\n",
    "if x>20:\n",
    "    print(\"B:bigger than 20\")"
   ]
  },
  {
   "cell_type": "code",
   "execution_count": 17,
   "metadata": {},
   "outputs": [
    {
     "name": "stdout",
     "output_type": "stream",
     "text": [
      "Five\n"
     ]
    }
   ],
   "source": [
    "x = 20\n",
    "y = 20\n",
    "z = 20\n",
    "if x < z:\n",
    "    if y == x:\n",
    "        print(\"One\")\n",
    "    elif y > x:\n",
    "        print(\"Two\")\n",
    "    else:\n",
    "        print(\"Three\")\n",
    "else:\n",
    "    if z < x:\n",
    "        print(\"Four\")\n",
    "    else:\n",
    "        print(\"Five\")"
   ]
  },
  {
   "cell_type": "code",
   "execution_count": 25,
   "metadata": {},
   "outputs": [
    {
     "name": "stdout",
     "output_type": "stream",
     "text": [
      "Number of Dependents: I hate the goverment\n"
     ]
    },
    {
     "ename": "ValueError",
     "evalue": "invalid literal for int() with base 10: 'I hate the goverment'",
     "output_type": "error",
     "traceback": [
      "\u001b[0;31m---------------------------------------------------------------------------\u001b[0m",
      "\u001b[0;31mValueError\u001b[0m                                Traceback (most recent call last)",
      "Input \u001b[0;32mIn [25]\u001b[0m, in \u001b[0;36m<module>\u001b[0;34m\u001b[0m\n\u001b[1;32m      1\u001b[0m \u001b[38;5;66;03m# INPUT\u001b[39;00m\n\u001b[1;32m      2\u001b[0m \u001b[38;5;66;03m# Dependents, Total Income\u001b[39;00m\n\u001b[1;32m      3\u001b[0m \u001b[38;5;66;03m# OUTPUT\u001b[39;00m\n\u001b[0;32m   (...)\u001b[0m\n\u001b[1;32m      6\u001b[0m \n\u001b[1;32m      7\u001b[0m \u001b[38;5;66;03m#inputs\u001b[39;00m\n\u001b[1;32m      8\u001b[0m total_income \u001b[38;5;241m=\u001b[39m \u001b[38;5;241m100_000\u001b[39m\n\u001b[0;32m----> 9\u001b[0m deps \u001b[38;5;241m=\u001b[39m \u001b[38;5;28;43mint\u001b[39;49m\u001b[43m(\u001b[49m\u001b[38;5;28;43minput\u001b[39;49m\u001b[43m(\u001b[49m\u001b[38;5;124;43m\"\u001b[39;49m\u001b[38;5;124;43mNumber of Dependents: \u001b[39;49m\u001b[38;5;124;43m\"\u001b[39;49m\u001b[43m)\u001b[49m\u001b[43m)\u001b[49m\n\u001b[1;32m     10\u001b[0m \u001b[38;5;28;01mif\u001b[39;00m deps \u001b[38;5;241m==\u001b[39m \u001b[38;5;241m0\u001b[39m:\n\u001b[1;32m     11\u001b[0m     tax_rate \u001b[38;5;241m=\u001b[39m \u001b[38;5;241m.3\u001b[39m\n",
      "\u001b[0;31mValueError\u001b[0m: invalid literal for int() with base 10: 'I hate the goverment'"
     ]
    }
   ],
   "source": [
    "# INPUT\n",
    "# Dependents, Total Income\n",
    "# OUTPUT\n",
    "# Tax Rate, Tax Bill\n",
    "\n",
    "\n",
    "#inputs\n",
    "total_income = 100_000\n",
    "deps = int(input(\"Number of Dependents: \"))\n",
    "if deps == 0:\n",
    "    tax_rate = .3\n",
    "elif deps == 1:\n",
    "    tax_rate = .25\n",
    "elif deps == 2:\n",
    "    tax_rate = .18\n",
    "else:\n",
    "    tax_rate = .1\n",
    "\n",
    "print(f\"Your tax rate {tax_rate*100} %\")\n",
    "tax_bill = total_income * tax_rate\n",
    "print(f\"Your tax bill is $ {tax_bill:.2f}\")"
   ]
  },
  {
   "cell_type": "code",
   "execution_count": 27,
   "metadata": {},
   "outputs": [
    {
     "name": "stdout",
     "output_type": "stream",
     "text": [
      "Enter a numberjhsfdgkfjhsgdasfghda\n",
      "That is not a number\n"
     ]
    }
   ],
   "source": [
    "try:\n",
    "    number= int(input(\"Enter a number\"))\n",
    "    print(number)\n",
    "except ValueError:\n",
    "    print(\"That is not a number\")\n",
    "    "
   ]
  },
  {
   "cell_type": "code",
   "execution_count": null,
   "metadata": {},
   "outputs": [],
   "source": []
  }
 ],
 "metadata": {
  "kernelspec": {
   "display_name": "Python 3 (ipykernel)",
   "language": "python",
   "name": "python3"
  },
  "language_info": {
   "codemirror_mode": {
    "name": "ipython",
    "version": 3
   },
   "file_extension": ".py",
   "mimetype": "text/x-python",
   "name": "python",
   "nbconvert_exporter": "python",
   "pygments_lexer": "ipython3",
   "version": "3.9.7"
  },
  "varInspector": {
   "cols": {
    "lenName": 16,
    "lenType": 16,
    "lenVar": 40
   },
   "kernels_config": {
    "python": {
     "delete_cmd_postfix": "",
     "delete_cmd_prefix": "del ",
     "library": "var_list.py",
     "varRefreshCmd": "print(var_dic_list())"
    },
    "r": {
     "delete_cmd_postfix": ") ",
     "delete_cmd_prefix": "rm(",
     "library": "var_list.r",
     "varRefreshCmd": "cat(var_dic_list()) "
    }
   },
   "position": {
    "height": "144.857px",
    "left": "697.143px",
    "right": "20px",
    "top": "129px",
    "width": "350px"
   },
   "types_to_exclude": [
    "module",
    "function",
    "builtin_function_or_method",
    "instance",
    "_Feature"
   ],
   "window_display": false
  }
 },
 "nbformat": 4,
 "nbformat_minor": 4
}
