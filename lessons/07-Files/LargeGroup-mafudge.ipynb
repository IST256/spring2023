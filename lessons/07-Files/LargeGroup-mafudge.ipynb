{
 "cells": [
  {
   "cell_type": "markdown",
   "metadata": {},
   "source": [
    "# Code Samples From Large Group\n"
   ]
  },
  {
   "cell_type": "code",
   "execution_count": 2,
   "metadata": {},
   "outputs": [],
   "source": [
    "def getSentiment(pos,neg,text):\n",
    "    score = 0\n",
    "    pos_words = pos.split()\n",
    "    neg_words = neg.split()\n",
    "    text_words = text.split()\n",
    "    for word in text_words:\n",
    "        if word in pos_words:\n",
    "            score = score + 1\n",
    "        elif word in neg_words:\n",
    "            score = score - 1\n",
    "    return score"
   ]
  },
  {
   "cell_type": "code",
   "execution_count": 3,
   "metadata": {},
   "outputs": [
    {
     "data": {
      "application/vnd.jupyter.widget-view+json": {
       "model_id": "7367d43e198e42c7bcdfa0834bc2a4e9",
       "version_major": 2,
       "version_minor": 0
      },
      "text/plain": [
       "interactive(children=(Textarea(value='happy fun laugh smile joy', description='pos'), Text(value='angry mad sa…"
      ]
     },
     "metadata": {},
     "output_type": "display_data"
    }
   ],
   "source": [
    "from IPython.display import display # OUTPUT\n",
    "from ipywidgets import interact_manual,widgets  #INPUTS\n",
    "\n",
    "# This build input widgets\n",
    "text_area = widgets.Textarea(value='i am not mad')\n",
    "\n",
    "text_pos = widgets.Textarea(value=\"happy fun laugh smile joy\")\n",
    "\n",
    "@interact_manual(pos = text_pos, neg = \"angry mad sad\", text=text_area)\n",
    "def onclick(pos,neg,text):\n",
    "    sent = getSentiment(pos,neg,text)\n",
    "    display(f\"Your text of '{text}' is sentiment {sent}\")"
   ]
  },
  {
   "cell_type": "code",
   "execution_count": 4,
   "metadata": {},
   "outputs": [
    {
     "name": "stdout",
     "output_type": "stream",
     "text": [
      "········\n"
     ]
    }
   ],
   "source": [
    "import getpass\n",
    "secret = getpass.getpass()"
   ]
  },
  {
   "cell_type": "code",
   "execution_count": 5,
   "metadata": {},
   "outputs": [
    {
     "name": "stdout",
     "output_type": "stream",
     "text": [
      "peanutbutter\n"
     ]
    }
   ],
   "source": [
    "print(secret)"
   ]
  },
  {
   "cell_type": "code",
   "execution_count": 6,
   "metadata": {},
   "outputs": [
    {
     "name": "stdout",
     "output_type": "stream",
     "text": [
      "········\n"
     ]
    }
   ],
   "source": [
    "import getpass\n",
    "secret = getpass.getpass()\n",
    "with open(\"secret.text\",\"w\") as f:\n",
    "    f.write(secret)"
   ]
  },
  {
   "cell_type": "code",
   "execution_count": 8,
   "metadata": {},
   "outputs": [
    {
     "name": "stdout",
     "output_type": "stream",
     "text": [
      "cheese\n"
     ]
    }
   ],
   "source": [
    "with open (\"secret.text\", \"r\") as secretfile:\n",
    "    contents = secretfile.read()\n",
    "    print(contents)\n"
   ]
  },
  {
   "cell_type": "code",
   "execution_count": 17,
   "metadata": {},
   "outputs": [
    {
     "name": "stdout",
     "output_type": "stream",
     "text": [
      "Enter grades: 100 100 100 100\n",
      "Wrote grade 100\n",
      "Wrote grade 100\n",
      "Wrote grade 100\n",
      "Wrote grade 100\n"
     ]
    }
   ],
   "source": [
    "file = \"grades.txt\"\n",
    "\n",
    "grades = input(\"Enter grades: \").split()\n",
    "with open(file,mode=\"a\") as f:\n",
    "    for grade in grades:\n",
    "        f.write(f\"{grade}\\n\")\n",
    "        print(f\"Wrote grade {grade}\")\n",
    "    "
   ]
  },
  {
   "cell_type": "code",
   "execution_count": 20,
   "metadata": {},
   "outputs": [
    {
     "name": "stdout",
     "output_type": "stream",
     "text": [
      "There are 10 grades and the average is 98.5\n"
     ]
    }
   ],
   "source": [
    "total = 0\n",
    "count = 0\n",
    "with open(file, mode=\"r\") as f:\n",
    "    for line in f:\n",
    "        grade = int(line)\n",
    "        count = count + 1\n",
    "        total = total + grade\n",
    "avg  = total/count\n",
    "print(f\"There are {count} grades and the average is {avg}\")"
   ]
  },
  {
   "cell_type": "code",
   "execution_count": 22,
   "metadata": {},
   "outputs": [
    {
     "data": {
      "text/plain": [
       "'zymologists'"
      ]
     },
     "execution_count": 22,
     "metadata": {},
     "output_type": "execute_result"
    }
   ],
   "source": [
    "with open(\"dict.txt\",mode=\"r\") as d:\n",
    "    contents = d.read()\n",
    "    words = contents.split()\n",
    "    "
   ]
  },
  {
   "cell_type": "code",
   "execution_count": 25,
   "metadata": {},
   "outputs": [],
   "source": [
    "def loadDictionary():\n",
    "    with open(\"dict.txt\",mode=\"r\") as d:\n",
    "        contents = d.read()\n",
    "        words = contents.split() \n",
    "        return words\n",
    "    "
   ]
  },
  {
   "cell_type": "code",
   "execution_count": 33,
   "metadata": {},
   "outputs": [
    {
     "name": "stdout",
     "output_type": "stream",
     "text": [
      "Enter text to spellcheck: I plan on using the opportunities given to me by the Obama Foundation and Brian Chesky to combat the lack of access to affordable housing in\n",
      "potential mispelling: me\n",
      "potential mispelling: obama\n",
      "potential mispelling: brian\n",
      "potential mispelling: chesky\n"
     ]
    }
   ],
   "source": [
    "dict_words = loadDictionary()\n",
    "text = input(\"Enter text to spellcheck: \")\n",
    "text = text.lower()\n",
    "text_words = text.split()\n",
    "\n",
    "for word in text_words:\n",
    "    if word not in dict_words:\n",
    "        print(f\"potential mispelling: {word}\")"
   ]
  },
  {
   "cell_type": "code",
   "execution_count": null,
   "metadata": {},
   "outputs": [],
   "source": []
  }
 ],
 "metadata": {
  "kernelspec": {
   "display_name": "Python 3 (ipykernel)",
   "language": "python",
   "name": "python3"
  },
  "language_info": {
   "codemirror_mode": {
    "name": "ipython",
    "version": 3
   },
   "file_extension": ".py",
   "mimetype": "text/x-python",
   "name": "python",
   "nbconvert_exporter": "python",
   "pygments_lexer": "ipython3",
   "version": "3.9.7"
  },
  "varInspector": {
   "cols": {
    "lenName": 16,
    "lenType": 16,
    "lenVar": 40
   },
   "kernels_config": {
    "python": {
     "delete_cmd_postfix": "",
     "delete_cmd_prefix": "del ",
     "library": "var_list.py",
     "varRefreshCmd": "print(var_dic_list())"
    },
    "r": {
     "delete_cmd_postfix": ") ",
     "delete_cmd_prefix": "rm(",
     "library": "var_list.r",
     "varRefreshCmd": "cat(var_dic_list()) "
    }
   },
   "types_to_exclude": [
    "module",
    "function",
    "builtin_function_or_method",
    "instance",
    "_Feature"
   ],
   "window_display": false
  }
 },
 "nbformat": 4,
 "nbformat_minor": 4
}
