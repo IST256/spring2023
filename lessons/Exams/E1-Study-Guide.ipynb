{
 "cells": [
  {
   "cell_type": "markdown",
   "id": "412c361e",
   "metadata": {},
   "source": [
    "# Exam 1\n",
    "\n",
    "### Exam Format\n",
    "\n",
    "Our exams consist of:\n",
    "\n",
    "- 15 questions, specifically directed at a concept you are expected to know.\n",
    "- You are expected to read and interpret python code, then output or select the correct answer.\n",
    "- Questions are multiple choice or short answer.\n",
    "- You are given 15 minutes (1 minute per question) this will be plenty of time if you are prepared.\n",
    "- Exam Opens 12 AM Friday, Exam closes 11:59 PM Friday. \n",
    "- Once you start the exam your 15 minute clock begins. Exam must be COMPLETE before 11:59 PM.\n",
    "- Do not open JupyterHub while taking your exam. This is an AI violation.\n",
    "- Never taken an exam in blackboard? Try Exam 0!\n",
    "\n",
    "### Exam Covers\n",
    "\n",
    "Exam 1 covers these 3 units:\n",
    "\n",
    "- 01 Input and Output \n",
    "  - code: print(), input(), print(f\"{x}\") =\n",
    "  - concepts: input, output, prompts, interpolation, assignment\n",
    "- 02 Variables and Types \n",
    "  - code: int() float() str() type(), + - // / % *\n",
    "  - concepts: type conversions, type inspection, arithmetic operators, variable naming rules\n",
    "- 03 Conditionals\n",
    "  - code: if elif else try except, > < >= <= == != and or not\n",
    "  - concepts: conditionals, exceptions, relational operators, logical operators\n",
    "\n",
    "### Exam Prep\n",
    "\n",
    "1. Make yourself a study guide of the key points from these units, revisit. \n",
    "  - Large Group slides\n",
    "  - Severance readings\n",
    "  - Know key terms like \"Logical Operator\"  and know how to use it in python (and, or, not).\n",
    "2. Put concepts on the study guide with examples in code. \n",
    "3. Review the questions we covered at the beginning of each large group.\n",
    "4. Test yourself modifying the code in the questions and tracing the results yourself.\n",
    "5. Use Pybot to get better at reading and evaluating code. Ask it to write code for you and interpret how it works.\n"
   ]
  },
  {
   "cell_type": "code",
   "execution_count": 4,
   "id": "f636fe3c",
   "metadata": {},
   "outputs": [],
   "source": [
    "%%pybot\n",
    "\n",
    "\n",
    "Write some example with an if else and a less than operator"
   ]
  },
  {
   "cell_type": "code",
   "execution_count": null,
   "id": "45a10e70",
   "metadata": {},
   "outputs": [],
   "source": [
    "#AI-Generated Output (Tokens: prompt=15, output=32, over_max=False)\n",
    "if x < y:\n",
    "print(\"x is less than y\"\n",
    "else\n",
    "    print(\"x is greater than y\")"
   ]
  },
  {
   "cell_type": "code",
   "execution_count": null,
   "id": "22e9525e",
   "metadata": {},
   "outputs": [],
   "source": [
    "#AI-Generated Output (Tokens: prompt=14, output=2, over_max=False)"
   ]
  },
  {
   "cell_type": "code",
   "execution_count": 5,
   "id": "9a379957",
   "metadata": {},
   "outputs": [
    {
     "ename": "IndentationError",
     "evalue": "expected an indented block (3811371038.py, line 2)",
     "output_type": "error",
     "traceback": [
      "\u001b[0;36m  File \u001b[0;32m\"/tmp/ipykernel_533/3811371038.py\"\u001b[0;36m, line \u001b[0;32m2\u001b[0m\n\u001b[0;31m    print(\"x is less than y\"\u001b[0m\n\u001b[0m    ^\u001b[0m\n\u001b[0;31mIndentationError\u001b[0m\u001b[0;31m:\u001b[0m expected an indented block\n"
     ]
    }
   ],
   "source": [
    "if x < y:\n",
    "print(\"x is less than y\"\n",
    "else\n",
    "    print(\"x is greater than y\")"
   ]
  },
  {
   "cell_type": "code",
   "execution_count": null,
   "id": "63c7c881",
   "metadata": {},
   "outputs": [],
   "source": []
  }
 ],
 "metadata": {
  "kernelspec": {
   "display_name": "Python 3 (ipykernel)",
   "language": "python",
   "name": "python3"
  },
  "language_info": {
   "codemirror_mode": {
    "name": "ipython",
    "version": 3
   },
   "file_extension": ".py",
   "mimetype": "text/x-python",
   "name": "python",
   "nbconvert_exporter": "python",
   "pygments_lexer": "ipython3",
   "version": "3.9.7"
  },
  "varInspector": {
   "cols": {
    "lenName": 16,
    "lenType": 16,
    "lenVar": 40
   },
   "kernels_config": {
    "python": {
     "delete_cmd_postfix": "",
     "delete_cmd_prefix": "del ",
     "library": "var_list.py",
     "varRefreshCmd": "print(var_dic_list())"
    },
    "r": {
     "delete_cmd_postfix": ") ",
     "delete_cmd_prefix": "rm(",
     "library": "var_list.r",
     "varRefreshCmd": "cat(var_dic_list()) "
    }
   },
   "types_to_exclude": [
    "module",
    "function",
    "builtin_function_or_method",
    "instance",
    "_Feature"
   ],
   "window_display": false
  }
 },
 "nbformat": 4,
 "nbformat_minor": 5
}
