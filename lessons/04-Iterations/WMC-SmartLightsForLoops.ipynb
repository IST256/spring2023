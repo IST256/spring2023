{
 "cells": [
  {
   "cell_type": "code",
   "execution_count": null,
   "id": "f6145999",
   "metadata": {},
   "outputs": [],
   "source": [
    "# Importing other people's code\n",
    "from coursetools.demos.smartlights import SmartLights\n",
    "from time import sleep"
   ]
  },
  {
   "cell_type": "code",
   "execution_count": null,
   "id": "acab39c9",
   "metadata": {},
   "outputs": [],
   "source": [
    "# make a bank of 8 smart lights\n",
    "count = 8\n",
    "key = \"mafudge\" # use your netid for the key, that way you get your own page of smartlights\n",
    "website = f\"https://smartlights.ist256.com/count/{count}/key/{key}\"\n",
    "print(website)"
   ]
  },
  {
   "cell_type": "code",
   "execution_count": null,
   "id": "3505cd64",
   "metadata": {},
   "outputs": [],
   "source": [
    "# Turning them on manually is a lot of code :-(\n",
    "SmartLights(key).on(0)\n",
    "SmartLights(key).on(1)\n",
    "SmartLights(key).on(2)\n",
    "SmartLights(key).on(3)\n",
    "SmartLights(key).on(4)\n",
    "SmartLights(key).on(5)\n",
    "SmartLights(key).on(6)\n",
    "SmartLights(key).on(7)"
   ]
  },
  {
   "cell_type": "code",
   "execution_count": null,
   "id": "dd44a46d",
   "metadata": {},
   "outputs": [],
   "source": [
    "for i in range(count):\n",
    "    SmartLights(key).off(i)"
   ]
  },
  {
   "cell_type": "code",
   "execution_count": null,
   "id": "68a1c802",
   "metadata": {},
   "outputs": [],
   "source": [
    "while True:\n",
    "    light = int(input(\"Flip Which light? 0-7?? \"))\n",
    "    status = SmartLights(key).status(light)\n",
    "    print(f\"Light is {status}\")\n",
    "    if status == \"on\":\n",
    "        SmartLights(key).off(light)\n",
    "    else:\n",
    "        SmartLights(key).on(light)"
   ]
  },
  {
   "cell_type": "code",
   "execution_count": null,
   "id": "69eeb9b0",
   "metadata": {},
   "outputs": [],
   "source": []
  }
 ],
 "metadata": {
  "kernelspec": {
   "display_name": "Python 3 (ipykernel)",
   "language": "python",
   "name": "python3"
  },
  "language_info": {
   "codemirror_mode": {
    "name": "ipython",
    "version": 3
   },
   "file_extension": ".py",
   "mimetype": "text/x-python",
   "name": "python",
   "nbconvert_exporter": "python",
   "pygments_lexer": "ipython3",
   "version": "3.9.7"
  },
  "varInspector": {
   "cols": {
    "lenName": 16,
    "lenType": 16,
    "lenVar": 40
   },
   "kernels_config": {
    "python": {
     "delete_cmd_postfix": "",
     "delete_cmd_prefix": "del ",
     "library": "var_list.py",
     "varRefreshCmd": "print(var_dic_list())"
    },
    "r": {
     "delete_cmd_postfix": ") ",
     "delete_cmd_prefix": "rm(",
     "library": "var_list.r",
     "varRefreshCmd": "cat(var_dic_list()) "
    }
   },
   "types_to_exclude": [
    "module",
    "function",
    "builtin_function_or_method",
    "instance",
    "_Feature"
   ],
   "window_display": false
  }
 },
 "nbformat": 4,
 "nbformat_minor": 5
}
