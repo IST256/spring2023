{
 "cells": [
  {
   "cell_type": "markdown",
   "metadata": {},
   "source": [
    "# Code Samples From Large Group\n"
   ]
  },
  {
   "cell_type": "code",
   "execution_count": null,
   "metadata": {},
   "outputs": [],
   "source": [
    "x = 10\n",
    "y = 1.5\n",
    "x/y"
   ]
  },
  {
   "cell_type": "code",
   "execution_count": null,
   "metadata": {},
   "outputs": [],
   "source": [
    "int(x/y)"
   ]
  },
  {
   "cell_type": "code",
   "execution_count": null,
   "metadata": {},
   "outputs": [],
   "source": [
    "x = 1\n",
    "while x<=7:\n",
    "    print(f\"The value of x is {x}\")\n",
    "    x = x + 1\n",
    "   "
   ]
  },
  {
   "cell_type": "code",
   "execution_count": null,
   "metadata": {},
   "outputs": [],
   "source": [
    "print(x)"
   ]
  },
  {
   "cell_type": "code",
   "execution_count": null,
   "metadata": {},
   "outputs": [],
   "source": [
    "print(x<=7)"
   ]
  },
  {
   "cell_type": "code",
   "execution_count": null,
   "metadata": {},
   "outputs": [],
   "source": [
    "x = 1\n",
    "print(f\"The value of x is {x}\")\n",
    "x = 2\n",
    "print(f\"The value of x is {x}\")\n",
    "x = 3\n",
    "print(f\"The value of x is {x}\")\n"
   ]
  },
  {
   "cell_type": "code",
   "execution_count": null,
   "metadata": {
    "scrolled": true
   },
   "outputs": [],
   "source": [
    "x = 1\n",
    "i = 2\n",
    "while i<=200:\n",
    "    print(f\"The value of x is {x}\")\n",
    "    x = x + 1"
   ]
  },
  {
   "cell_type": "code",
   "execution_count": null,
   "metadata": {},
   "outputs": [],
   "source": [
    "print(x)"
   ]
  },
  {
   "cell_type": "code",
   "execution_count": null,
   "metadata": {},
   "outputs": [],
   "source": [
    "p"
   ]
  },
  {
   "cell_type": "code",
   "execution_count": null,
   "metadata": {},
   "outputs": [],
   "source": []
  },
  {
   "cell_type": "code",
   "execution_count": null,
   "metadata": {},
   "outputs": [],
   "source": []
  },
  {
   "cell_type": "code",
   "execution_count": null,
   "metadata": {},
   "outputs": [],
   "source": [
    "pw = 'tony'\n",
    "i  = \"\"\n",
    "\n",
    "while i != pw:\n",
    "    i = input()\n",
    "    "
   ]
  },
  {
   "cell_type": "code",
   "execution_count": null,
   "metadata": {},
   "outputs": [],
   "source": [
    "password = \"rhubarb\"\n",
    "yourinput = \"\"\n",
    "while not  yourinput == password:\n",
    "    yourinput = input(\"Enter Password:\")\n",
    "    \n",
    "    "
   ]
  },
  {
   "cell_type": "code",
   "execution_count": null,
   "metadata": {},
   "outputs": [],
   "source": [
    "password = \"rhubarb\"\n",
    "yourinput = \"\"\n",
    "tries = 0\n",
    "while not  yourinput == password and tries < 5:\n",
    "    yourinput = input(\"Enter Password:\")\n",
    "    tries = tries + 1\n",
    "    print(f\"this was your {tries} try.\")"
   ]
  },
  {
   "cell_type": "code",
   "execution_count": 23,
   "metadata": {},
   "outputs": [
    {
     "name": "stdout",
     "output_type": "stream",
     "text": [
      "Enter Password:········\n",
      "Number of attempts 1\n",
      "Enter Password:········\n",
      "Number of attempts 2\n",
      "Enter Password:········\n",
      "Number of attempts 3\n",
      "You are locked out for 5 seconds!\n",
      "Enter Password:········\n",
      "Password Accepted!!!\n",
      "Hi Mommy!\n"
     ]
    }
   ],
   "source": [
    "import time\n",
    "import getpass\n",
    "password = \"rhubarb\"\n",
    "yourinput = \"\"\n",
    "tries = 0\n",
    "lockout = 5\n",
    "\n",
    "while True:\n",
    "    yourinput = getpass.getpass(\"Enter Password:\")\n",
    "    if yourinput == password:\n",
    "        print(\"Password Accepted!!!\")\n",
    "        break \n",
    "\n",
    "    tries = tries + 1\n",
    "    print(f\"Number of attempts {tries}\")\n",
    "    if tries == 3:\n",
    "        print(f\"You are locked out for {lockout} seconds!\")\n",
    "        time.sleep(lockout)\n",
    "        tries = 0 \n",
    "\n",
    "print(\"Hi Mommy!\")"
   ]
  },
  {
   "cell_type": "code",
   "execution_count": 20,
   "metadata": {},
   "outputs": [
    {
     "name": "stdout",
     "output_type": "stream",
     "text": [
      "going to sleep\n",
      "Im awake\n"
     ]
    }
   ],
   "source": [
    "import time\n",
    "print(\"going to sleep\")\n",
    "time.sleep(5)\n",
    "print(\"Im awake\")\n"
   ]
  },
  {
   "cell_type": "code",
   "execution_count": 22,
   "metadata": {},
   "outputs": [
    {
     "name": "stdout",
     "output_type": "stream",
     "text": [
      "········\n",
      "hfjkfjfhruidhr\n"
     ]
    }
   ],
   "source": [
    "import getpass\n",
    "\n",
    "secret = getpass.getpass()\n",
    "print(secret)"
   ]
  },
  {
   "cell_type": "code",
   "execution_count": 28,
   "metadata": {},
   "outputs": [
    {
     "name": "stdout",
     "output_type": "stream",
     "text": [
      "Enter a wordmissle\n",
      "1\n"
     ]
    }
   ],
   "source": [
    "#definite\n",
    "\n",
    "word = input(\"Enter a word\")\n",
    "count = 0\n",
    "for letter in word:\n",
    "    if letter == 'i':\n",
    "        count = count + 1\n",
    "    \n",
    "    \n",
    "print(count)"
   ]
  },
  {
   "cell_type": "code",
   "execution_count": 33,
   "metadata": {},
   "outputs": [
    {
     "name": "stdout",
     "output_type": "stream",
     "text": [
      "4.0 Deans List\n",
      "3.0 Deans List\n",
      "1.8 \n",
      "2.5 \n",
      "3.4 Deans List\n"
     ]
    }
   ],
   "source": [
    "gpas = [ 4.0, 3.0, 1.8, 2.5, 3.4 ]\n",
    "for gpa in gpas:\n",
    "    if gpa >= 3.0:\n",
    "        deans_list = \"Deans List\"\n",
    "    else:\n",
    "        deans_list = \"\"\n",
    "    print(f\"{gpa} {deans_list}\")"
   ]
  },
  {
   "cell_type": "code",
   "execution_count": null,
   "metadata": {},
   "outputs": [],
   "source": []
  }
 ],
 "metadata": {
  "kernelspec": {
   "display_name": "Python 3 (ipykernel)",
   "language": "python",
   "name": "python3"
  },
  "language_info": {
   "codemirror_mode": {
    "name": "ipython",
    "version": 3
   },
   "file_extension": ".py",
   "mimetype": "text/x-python",
   "name": "python",
   "nbconvert_exporter": "python",
   "pygments_lexer": "ipython3",
   "version": "3.9.7"
  },
  "varInspector": {
   "cols": {
    "lenName": 16,
    "lenType": 16,
    "lenVar": 40
   },
   "kernels_config": {
    "python": {
     "delete_cmd_postfix": "",
     "delete_cmd_prefix": "del ",
     "library": "var_list.py",
     "varRefreshCmd": "print(var_dic_list())"
    },
    "r": {
     "delete_cmd_postfix": ") ",
     "delete_cmd_prefix": "rm(",
     "library": "var_list.r",
     "varRefreshCmd": "cat(var_dic_list()) "
    }
   },
   "types_to_exclude": [
    "module",
    "function",
    "builtin_function_or_method",
    "instance",
    "_Feature"
   ],
   "window_display": false
  }
 },
 "nbformat": 4,
 "nbformat_minor": 4
}
