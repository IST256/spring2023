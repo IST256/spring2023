{
 "cells": [
  {
   "cell_type": "markdown",
   "metadata": {},
   "source": [
    "# Code Samples From Large Group\n",
    "\n",
    "Place your notes and code samples from large group here."
   ]
  },
  {
   "cell_type": "code",
   "execution_count": 2,
   "metadata": {},
   "outputs": [],
   "source": [
    "%%pybot\n",
    "\n",
    "Increment the variable i and dont write a function"
   ]
  },
  {
   "cell_type": "code",
   "execution_count": null,
   "metadata": {},
   "outputs": [],
   "source": [
    "#AI-Generated Output (Tokens: prompt=13, output=24, over_max=False)\n",
    "i = 0\n",
    "while i < 10:\n",
    "    print(i)\n",
    "    i += 1"
   ]
  },
  {
   "cell_type": "code",
   "execution_count": null,
   "metadata": {},
   "outputs": [],
   "source": [
    "#AI-Generated Output (Tokens: prompt=8, output=36, over_max=False)\n",
    "def increment(i):\n",
    "    i += 1\n",
    "    return i\n",
    "i = 0\n",
    "print(increment(i))\n",
    "print(i)"
   ]
  },
  {
   "cell_type": "code",
   "execution_count": 3,
   "metadata": {},
   "outputs": [],
   "source": [
    "i = 10"
   ]
  },
  {
   "cell_type": "code",
   "execution_count": 4,
   "metadata": {},
   "outputs": [],
   "source": [
    "i = i + 1"
   ]
  },
  {
   "cell_type": "code",
   "execution_count": 5,
   "metadata": {},
   "outputs": [
    {
     "name": "stdout",
     "output_type": "stream",
     "text": [
      "11\n"
     ]
    }
   ],
   "source": [
    "print(i)"
   ]
  },
  {
   "cell_type": "code",
   "execution_count": 6,
   "metadata": {},
   "outputs": [],
   "source": [
    " i += 1"
   ]
  },
  {
   "cell_type": "code",
   "execution_count": 7,
   "metadata": {},
   "outputs": [
    {
     "name": "stdout",
     "output_type": "stream",
     "text": [
      "12\n"
     ]
    }
   ],
   "source": [
    "print(i)"
   ]
  },
  {
   "cell_type": "code",
   "execution_count": 8,
   "metadata": {},
   "outputs": [
    {
     "name": "stdout",
     "output_type": "stream",
     "text": [
      "0\n",
      "1\n",
      "2\n",
      "3\n",
      "4\n",
      "5\n",
      "6\n",
      "7\n",
      "8\n",
      "9\n"
     ]
    }
   ],
   "source": [
    "times = 10\n",
    "for i in range(times):\n",
    "    print(i)"
   ]
  },
  {
   "cell_type": "code",
   "execution_count": 9,
   "metadata": {},
   "outputs": [
    {
     "name": "stdout",
     "output_type": "stream",
     "text": [
      "cheese\n",
      "beer\n",
      "apples\n",
      "pizza\n"
     ]
    }
   ],
   "source": [
    "groceries = [\n",
    "    'cheese',\n",
    "    'beer',\n",
    "    'apples',\n",
    "    'pizza'\n",
    "]\n",
    "\n",
    "for g in groceries:\n",
    "    print(g)"
   ]
  },
  {
   "cell_type": "code",
   "execution_count": 11,
   "metadata": {},
   "outputs": [
    {
     "name": "stdout",
     "output_type": "stream",
     "text": [
      "There are 2 beers in the list\n"
     ]
    }
   ],
   "source": [
    "groceries = [ 'cheese', 'beer', 'apples','pizza','beer' ]\n",
    "beers = 0 \n",
    "for g in groceries:\n",
    "    if g == 'beer':\n",
    "        beers = beers + 1\n",
    "    \n",
    "print(f\"There are {beers} beers in the list\")"
   ]
  },
  {
   "cell_type": "code",
   "execution_count": 13,
   "metadata": {},
   "outputs": [
    {
     "name": "stdout",
     "output_type": "stream",
     "text": [
      "Enter Your Passwordcheese\n",
      "Password Accepted!\n"
     ]
    }
   ],
   "source": [
    "password = \"cheese\"\n",
    "yourinput = \"\"\n",
    "while (yourinput != password):\n",
    "    yourinput = input(\"Enter Your Password\")\n",
    "    if yourinput == password:\n",
    "        print(\"Password Accepted!\")\n",
    "    else:\n",
    "        print(\"Invalid Password!\")"
   ]
  },
  {
   "cell_type": "code",
   "execution_count": 20,
   "metadata": {},
   "outputs": [
    {
     "name": "stdout",
     "output_type": "stream",
     "text": [
      "Playing The game\n",
      "What Happened? [L,W,Q] W\n",
      "You Won!\n",
      "Main Game Menu\n"
     ]
    }
   ],
   "source": [
    "pressed_quitkey=False\n",
    "end_of_game = False\n",
    "no_more_lives= False\n",
    "while True:\n",
    "    if pressed_quitkey:\n",
    "        print(\"Exiting the game\")\n",
    "        break\n",
    "    if end_of_game:\n",
    "        print(\"You Won!\")\n",
    "        break\n",
    "    if no_more_lives:\n",
    "        print(\"You Lose!\")\n",
    "        break\n",
    "        \n",
    "    print(\"Playing The game\")\n",
    "    choice = input(\"What Happened? [L,W,Q] \")\n",
    "    pressed_quitkey = choice == 'Q'\n",
    "    end_of_game = choice == 'W'\n",
    "    no_more_lives = choice == 'L'\n",
    "\n",
    "print(\"Main Game Menu\")"
   ]
  },
  {
   "cell_type": "code",
   "execution_count": 22,
   "metadata": {},
   "outputs": [
    {
     "name": "stdout",
     "output_type": "stream",
     "text": [
      "Enter some text: I have some cheese which is awesome\n",
      "Enter Letter to search: s\n",
      "I found 4 s in I have some cheese which is awesome\n"
     ]
    }
   ],
   "source": [
    "text = input(\"Enter some text: \")\n",
    "search = input(\"Enter Letter to search: \")\n",
    "count = 0\n",
    "for ch in text:\n",
    "    if ch == search:\n",
    "        count = count +1\n",
    "print(f\"I found {count} {search} in {text}\")"
   ]
  },
  {
   "cell_type": "code",
   "execution_count": null,
   "metadata": {},
   "outputs": [],
   "source": []
  }
 ],
 "metadata": {
  "kernelspec": {
   "display_name": "Python 3 (ipykernel)",
   "language": "python",
   "name": "python3"
  },
  "language_info": {
   "codemirror_mode": {
    "name": "ipython",
    "version": 3
   },
   "file_extension": ".py",
   "mimetype": "text/x-python",
   "name": "python",
   "nbconvert_exporter": "python",
   "pygments_lexer": "ipython3",
   "version": "3.9.7"
  },
  "varInspector": {
   "cols": {
    "lenName": 16,
    "lenType": 16,
    "lenVar": 40
   },
   "kernels_config": {
    "python": {
     "delete_cmd_postfix": "",
     "delete_cmd_prefix": "del ",
     "library": "var_list.py",
     "varRefreshCmd": "print(var_dic_list())"
    },
    "r": {
     "delete_cmd_postfix": ") ",
     "delete_cmd_prefix": "rm(",
     "library": "var_list.r",
     "varRefreshCmd": "cat(var_dic_list()) "
    }
   },
   "types_to_exclude": [
    "module",
    "function",
    "builtin_function_or_method",
    "instance",
    "_Feature"
   ],
   "window_display": false
  }
 },
 "nbformat": 4,
 "nbformat_minor": 4
}
