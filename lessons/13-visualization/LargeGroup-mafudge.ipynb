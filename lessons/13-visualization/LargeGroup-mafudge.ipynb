{
 "cells": [
  {
   "cell_type": "code",
   "execution_count": 4,
   "id": "d276d4af",
   "metadata": {},
   "outputs": [
    {
     "name": "stdout",
     "output_type": "stream",
     "text": [
      "https://api.openweathermap.org/data/2.6/onecall?lat=50&lon=-90&appid=67f9d45c32dd086df27f2b7a90370a8e&units=imperial\n"
     ]
    }
   ],
   "source": [
    "import requests\n",
    "lat = 50\n",
    "lon = -90\n",
    "appid = '67f9d45c32dd086df27f2b7a90370a8e'\n",
    "query_string = { 'lat' : lat, 'lon': lon, 'appid' : appid, 'units' : 'imperial'}\n",
    "url='https://api.openweathermap.org/data/2.5/onecall' \n",
    "response = requests.get(url, params=query_string)\n",
    "print(response.url)\n"
   ]
  },
  {
   "cell_type": "code",
   "execution_count": 1,
   "id": "a0d5cb98",
   "metadata": {},
   "outputs": [
    {
     "data": {
      "text/html": [
       "<img src=\"https://storage.googleapis.com/cdn-ioutdoor-com/2020/10/64aa46a0-why-is-bass-fishing-so-popular.jpg\" width=\"200\"/>"
      ],
      "text/plain": [
       "<IPython.core.display.Image object>"
      ]
     },
     "metadata": {},
     "output_type": "display_data"
    },
    {
     "data": {
      "text/html": [
       "<img src=\"https://ischool.syr.edu/wp-content/uploads/2020/06/fudge-michael-200x300.jpg\"/>"
      ],
      "text/plain": [
       "<IPython.core.display.Image object>"
      ]
     },
     "metadata": {},
     "output_type": "display_data"
    }
   ],
   "source": [
    "from IPython.display import display, Image\n",
    "\n",
    "pic = \"https://storage.googleapis.com/cdn-ioutdoor-com/2020/10/64aa46a0-why-is-bass-fishing-so-popular.jpg\"\n",
    "display(Image(url=pic,width=200))\n",
    "display(Image(url=\"https://ischool.syr.edu/wp-content/uploads/2020/06/fudge-michael-200x300.jpg\"))\n",
    "\n",
    "#SHIFT + TAB\n",
    "\n",
    "#PIL"
   ]
  },
  {
   "cell_type": "code",
   "execution_count": 3,
   "id": "b29bb280",
   "metadata": {},
   "outputs": [
    {
     "data": {
      "image/jpeg": "[encoded data removed]",
      "text/html": [
       "\n",
       "        <iframe\n",
       "            width=\"400\"\n",
       "            height=\"300\"\n",
       "            src=\"https://www.youtube.com/embed/odnRRZKhNPk\"\n",
       "            frameborder=\"0\"\n",
       "            allowfullscreen\n",
       "            \n",
       "        ></iframe>\n",
       "        "
      ],
      "text/plain": [
       "<IPython.lib.display.YouTubeVideo at 0x7f1a886ec7c0>"
      ]
     },
     "metadata": {},
     "output_type": "display_data"
    }
   ],
   "source": [
    "from IPython.display import display, YouTubeVideo\n",
    "\n",
    "display(YouTubeVideo(\"odnRRZKhNPk\",width=400))"
   ]
  },
  {
   "cell_type": "code",
   "execution_count": 4,
   "id": "17825e41",
   "metadata": {},
   "outputs": [],
   "source": [
    "# All the different displays\n",
    "# https://ipython.readthedocs.io/en/stable/api/generated/IPython.display.html"
   ]
  },
  {
   "cell_type": "code",
   "execution_count": 5,
   "id": "f9c84ec7",
   "metadata": {},
   "outputs": [
    {
     "name": "stdout",
     "output_type": "stream",
     "text": [
      "5\n"
     ]
    }
   ],
   "source": [
    "# Exam 4 - Data Frame\n",
    "import pandas as pd\n",
    "x = [ { 'a' :2, 'b' : 'x', 'c' : 10}, \n",
    "      { 'a' :4, 'b' : 'y', 'c' : 3},\n",
    "      { 'a' :1, 'b' : 'x', 'c' : 6} ]\n",
    "y = pd.DataFrame(x)\n",
    "w = 0 \n",
    "for z in y.to_records():\n",
    "    if z['c']<7:\n",
    "        w = w + z['a']\n",
    "print(w)"
   ]
  },
  {
   "cell_type": "code",
   "execution_count": null,
   "id": "9ebf4632",
   "metadata": {},
   "outputs": [],
   "source": [
    "   |  0  |   1   |   2  |\n",
    " w |  0  |   4   |   5  |"
   ]
  },
  {
   "cell_type": "code",
   "execution_count": 6,
   "id": "6d348f62",
   "metadata": {},
   "outputs": [
    {
     "name": "stdout",
     "output_type": "stream",
     "text": [
      "5\n"
     ]
    }
   ],
   "source": [
    "# Exact same quesion in exam 3\n",
    "x = [ { 'a' :2, 'b' : 'x', 'c' : 10}, \n",
    "      { 'a' :4, 'b' : 'y', 'c' : 3},\n",
    "      { 'a' :1, 'b' : 'x', 'c' : 6} ]\n",
    "w = 0 \n",
    "for z in x:\n",
    "    if z['c']<7:\n",
    "        w = w + z['a']\n",
    "print(w)"
   ]
  },
  {
   "cell_type": "code",
   "execution_count": null,
   "id": "2035a08e",
   "metadata": {},
   "outputs": [],
   "source": []
  }
 ],
 "metadata": {
  "kernelspec": {
   "display_name": "Python 3 (ipykernel)",
   "language": "python",
   "name": "python3"
  },
  "language_info": {
   "codemirror_mode": {
    "name": "ipython",
    "version": 3
   },
   "file_extension": ".py",
   "mimetype": "text/x-python",
   "name": "python",
   "nbconvert_exporter": "python",
   "pygments_lexer": "ipython3",
   "version": "3.9.7"
  },
  "varInspector": {
   "cols": {
    "lenName": 16,
    "lenType": 16,
    "lenVar": 40
   },
   "kernels_config": {
    "python": {
     "delete_cmd_postfix": "",
     "delete_cmd_prefix": "del ",
     "library": "var_list.py",
     "varRefreshCmd": "print(var_dic_list())"
    },
    "r": {
     "delete_cmd_postfix": ") ",
     "delete_cmd_prefix": "rm(",
     "library": "var_list.r",
     "varRefreshCmd": "cat(var_dic_list()) "
    }
   },
   "types_to_exclude": [
    "module",
    "function",
    "builtin_function_or_method",
    "instance",
    "_Feature"
   ],
   "window_display": false
  }
 },
 "nbformat": 4,
 "nbformat_minor": 5
}
