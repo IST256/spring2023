{
 "cells": [
  {
   "cell_type": "markdown",
   "metadata": {},
   "source": [
    "# Code Samples From Large Group\n"
   ]
  },
  {
   "cell_type": "code",
   "execution_count": 1,
   "metadata": {},
   "outputs": [],
   "source": [
    "font={'Name':'Arial','Size': 8}"
   ]
  },
  {
   "cell_type": "code",
   "execution_count": 2,
   "metadata": {},
   "outputs": [
    {
     "name": "stdout",
     "output_type": "stream",
     "text": [
      "{'Name': 'Arial', 'Size': 8}\n"
     ]
    }
   ],
   "source": [
    "print(font)"
   ]
  },
  {
   "cell_type": "code",
   "execution_count": 3,
   "metadata": {},
   "outputs": [
    {
     "data": {
      "text/plain": [
       "dict"
      ]
     },
     "execution_count": 3,
     "metadata": {},
     "output_type": "execute_result"
    }
   ],
   "source": [
    "type(font)"
   ]
  },
  {
   "cell_type": "code",
   "execution_count": 5,
   "metadata": {},
   "outputs": [
    {
     "data": {
      "text/plain": [
       "'Arial'"
      ]
     },
     "execution_count": 5,
     "metadata": {},
     "output_type": "execute_result"
    }
   ],
   "source": [
    "font['Name']"
   ]
  },
  {
   "cell_type": "code",
   "execution_count": 7,
   "metadata": {},
   "outputs": [
    {
     "data": {
      "text/plain": [
       "8"
      ]
     },
     "execution_count": 7,
     "metadata": {},
     "output_type": "execute_result"
    }
   ],
   "source": [
    "font['Size']"
   ]
  },
  {
   "cell_type": "code",
   "execution_count": 9,
   "metadata": {},
   "outputs": [
    {
     "ename": "KeyError",
     "evalue": "'Arial'",
     "output_type": "error",
     "traceback": [
      "\u001b[0;31m---------------------------------------------------------------------------\u001b[0m",
      "\u001b[0;31mKeyError\u001b[0m                                  Traceback (most recent call last)",
      "Input \u001b[0;32mIn [9]\u001b[0m, in \u001b[0;36m<module>\u001b[0;34m\u001b[0m\n\u001b[1;32m      1\u001b[0m \u001b[38;5;66;03m# Arial is not the key... its the value!\u001b[39;00m\n\u001b[0;32m----> 2\u001b[0m \u001b[43mfont\u001b[49m\u001b[43m[\u001b[49m\u001b[38;5;124;43m'\u001b[39;49m\u001b[38;5;124;43mArial\u001b[39;49m\u001b[38;5;124;43m'\u001b[39;49m\u001b[43m]\u001b[49m\n",
      "\u001b[0;31mKeyError\u001b[0m: 'Arial'"
     ]
    }
   ],
   "source": [
    "# Arial is not the key... its the value!\n",
    "font['Arial']"
   ]
  },
  {
   "cell_type": "code",
   "execution_count": 11,
   "metadata": {},
   "outputs": [
    {
     "data": {
      "text/plain": [
       "dict_keys(['Name', 'Size'])"
      ]
     },
     "execution_count": 11,
     "metadata": {},
     "output_type": "execute_result"
    }
   ],
   "source": [
    "font.keys()"
   ]
  },
  {
   "cell_type": "code",
   "execution_count": 13,
   "metadata": {},
   "outputs": [
    {
     "ename": "KeyError",
     "evalue": "'Bold'",
     "output_type": "error",
     "traceback": [
      "\u001b[0;31m---------------------------------------------------------------------------\u001b[0m",
      "\u001b[0;31mKeyError\u001b[0m                                  Traceback (most recent call last)",
      "Input \u001b[0;32mIn [13]\u001b[0m, in \u001b[0;36m<module>\u001b[0;34m\u001b[0m\n\u001b[0;32m----> 1\u001b[0m \u001b[43mfont\u001b[49m\u001b[43m[\u001b[49m\u001b[38;5;124;43m\"\u001b[39;49m\u001b[38;5;124;43mBold\u001b[39;49m\u001b[38;5;124;43m\"\u001b[39;49m\u001b[43m]\u001b[49m\n",
      "\u001b[0;31mKeyError\u001b[0m: 'Bold'"
     ]
    }
   ],
   "source": [
    "font[\"Bold\"]"
   ]
  },
  {
   "cell_type": "code",
   "execution_count": 14,
   "metadata": {},
   "outputs": [],
   "source": [
    "font[\"Bold\"] = True"
   ]
  },
  {
   "cell_type": "code",
   "execution_count": 15,
   "metadata": {},
   "outputs": [
    {
     "data": {
      "text/plain": [
       "{'Name': 'Arial', 'Size': 8, 'Bold': True}"
      ]
     },
     "execution_count": 15,
     "metadata": {},
     "output_type": "execute_result"
    }
   ],
   "source": [
    "font"
   ]
  },
  {
   "cell_type": "code",
   "execution_count": 16,
   "metadata": {},
   "outputs": [],
   "source": [
    "product = {}"
   ]
  },
  {
   "cell_type": "code",
   "execution_count": 17,
   "metadata": {},
   "outputs": [],
   "source": [
    "product['name'] = 'Air Jordans'\n",
    "product['price'] = 199.99\n",
    "product['color'] = 'red'"
   ]
  },
  {
   "cell_type": "code",
   "execution_count": 18,
   "metadata": {},
   "outputs": [
    {
     "data": {
      "text/plain": [
       "{'name': 'Air Jordans', 'price': 199.99, 'color': 'red'}"
      ]
     },
     "execution_count": 18,
     "metadata": {},
     "output_type": "execute_result"
    }
   ],
   "source": [
    "product"
   ]
  },
  {
   "cell_type": "code",
   "execution_count": 19,
   "metadata": {},
   "outputs": [],
   "source": [
    "student = {\n",
    "    'name' : 'bill',\n",
    "    'gpa' : 3.4,\n",
    "    'major' : 'Bio'\n",
    "}"
   ]
  },
  {
   "cell_type": "code",
   "execution_count": 20,
   "metadata": {},
   "outputs": [
    {
     "data": {
      "text/plain": [
       "{'name': 'bill', 'gpa': 3.4, 'major': 'Bio'}"
      ]
     },
     "execution_count": 20,
     "metadata": {},
     "output_type": "execute_result"
    }
   ],
   "source": [
    "student"
   ]
  },
  {
   "cell_type": "code",
   "execution_count": 22,
   "metadata": {},
   "outputs": [
    {
     "name": "stdout",
     "output_type": "stream",
     "text": [
      "Enter your name: Mike\n",
      "Enter your GPA: 4.0\n",
      "Enter your major: Accounting\n"
     ]
    }
   ],
   "source": [
    "student = {\n",
    "    'name' : input(\"Enter your name: \"),\n",
    "    'gpa' : float(input(\"Enter your GPA: \")),\n",
    "    'major' : input(\"Enter your major: \")\n",
    "}\n"
   ]
  },
  {
   "cell_type": "code",
   "execution_count": 24,
   "metadata": {},
   "outputs": [
    {
     "data": {
      "text/plain": [
       "{'name': 'Mike', 'gpa': 4.0, 'major': 'Accounting'}"
      ]
     },
     "execution_count": 24,
     "metadata": {},
     "output_type": "execute_result"
    }
   ],
   "source": [
    "student"
   ]
  },
  {
   "cell_type": "code",
   "execution_count": 25,
   "metadata": {},
   "outputs": [],
   "source": [
    "student['name'] = 'Alice'"
   ]
  },
  {
   "cell_type": "code",
   "execution_count": 26,
   "metadata": {},
   "outputs": [
    {
     "data": {
      "text/plain": [
       "{'name': 'Alice', 'gpa': 4.0, 'major': 'Accounting'}"
      ]
     },
     "execution_count": 26,
     "metadata": {},
     "output_type": "execute_result"
    }
   ],
   "source": [
    "student"
   ]
  },
  {
   "cell_type": "code",
   "execution_count": 28,
   "metadata": {},
   "outputs": [
    {
     "name": "stdout",
     "output_type": "stream",
     "text": [
      "name : Alice\n",
      "gpa : 4.0\n",
      "major : Accounting\n"
     ]
    }
   ],
   "source": [
    "# this loops over the dict keys and print the values \n",
    "for key in student.keys():\n",
    "    print(f\"{key} : {student[key]}\")"
   ]
  },
  {
   "cell_type": "code",
   "execution_count": 30,
   "metadata": {},
   "outputs": [
    {
     "ename": "KeyError",
     "evalue": "'dorm'",
     "output_type": "error",
     "traceback": [
      "\u001b[0;31m---------------------------------------------------------------------------\u001b[0m",
      "\u001b[0;31mKeyError\u001b[0m                                  Traceback (most recent call last)",
      "Input \u001b[0;32mIn [30]\u001b[0m, in \u001b[0;36m<module>\u001b[0;34m\u001b[0m\n\u001b[0;32m----> 1\u001b[0m \u001b[43mstudent\u001b[49m\u001b[43m[\u001b[49m\u001b[38;5;124;43m'\u001b[39;49m\u001b[38;5;124;43mdorm\u001b[39;49m\u001b[38;5;124;43m'\u001b[39;49m\u001b[43m]\u001b[49m\n",
      "\u001b[0;31mKeyError\u001b[0m: 'dorm'"
     ]
    }
   ],
   "source": [
    "student['dorm']"
   ]
  },
  {
   "cell_type": "code",
   "execution_count": 31,
   "metadata": {},
   "outputs": [
    {
     "name": "stdout",
     "output_type": "stream",
     "text": [
      "No key called dorm\n"
     ]
    }
   ],
   "source": [
    "try:\n",
    "    print(student['dorm'])\n",
    "except KeyError:\n",
    "    print(\"No key called dorm\")"
   ]
  },
  {
   "cell_type": "code",
   "execution_count": 33,
   "metadata": {},
   "outputs": [
    {
     "data": {
      "text/plain": [
       "'No dorm key!'"
      ]
     },
     "execution_count": 33,
     "metadata": {},
     "output_type": "execute_result"
    }
   ],
   "source": [
    "#soft get no error if key does not exist\n",
    "student.get('dorm','No dorm key!')"
   ]
  },
  {
   "cell_type": "code",
   "execution_count": 34,
   "metadata": {},
   "outputs": [
    {
     "data": {
      "text/plain": [
       "{'name': 'Air Jordans', 'price': 199.99, 'color': 'red'}"
      ]
     },
     "execution_count": 34,
     "metadata": {},
     "output_type": "execute_result"
    }
   ],
   "source": [
    "product"
   ]
  },
  {
   "cell_type": "code",
   "execution_count": 35,
   "metadata": {},
   "outputs": [],
   "source": [
    "# set inventory to zero if there is no key\n",
    "product['inventory'] = product.get('inventory', 0)"
   ]
  },
  {
   "cell_type": "code",
   "execution_count": 36,
   "metadata": {},
   "outputs": [
    {
     "data": {
      "text/plain": [
       "{'name': 'Air Jordans', 'price': 199.99, 'color': 'red', 'inventory': 0}"
      ]
     },
     "execution_count": 36,
     "metadata": {},
     "output_type": "execute_result"
    }
   ],
   "source": [
    "product"
   ]
  },
  {
   "cell_type": "code",
   "execution_count": 37,
   "metadata": {},
   "outputs": [],
   "source": [
    "product['inventory'] = 100"
   ]
  },
  {
   "cell_type": "code",
   "execution_count": 38,
   "metadata": {},
   "outputs": [
    {
     "data": {
      "text/plain": [
       "100"
      ]
     },
     "execution_count": 38,
     "metadata": {},
     "output_type": "execute_result"
    }
   ],
   "source": [
    "product.get('inventory', 0)"
   ]
  },
  {
   "cell_type": "code",
   "execution_count": 39,
   "metadata": {},
   "outputs": [
    {
     "data": {
      "text/plain": [
       "{'name': 'Air Jordans', 'price': 199.99, 'color': 'red', 'inventory': 100}"
      ]
     },
     "execution_count": 39,
     "metadata": {},
     "output_type": "execute_result"
    }
   ],
   "source": [
    "product"
   ]
  },
  {
   "cell_type": "code",
   "execution_count": 40,
   "metadata": {},
   "outputs": [],
   "source": [
    "students = [     \n",
    "    { 'Name':'bob','GPA':3.4 },   \n",
    "    { 'Name':'sue','GPA':2.8 },  \n",
    "    { 'Name':'kent','GPA':4.0 }  \n",
    "]"
   ]
  },
  {
   "cell_type": "code",
   "execution_count": 41,
   "metadata": {},
   "outputs": [
    {
     "data": {
      "text/plain": [
       "list"
      ]
     },
     "execution_count": 41,
     "metadata": {},
     "output_type": "execute_result"
    }
   ],
   "source": [
    "type(students)"
   ]
  },
  {
   "cell_type": "code",
   "execution_count": 42,
   "metadata": {},
   "outputs": [
    {
     "data": {
      "text/plain": [
       "{'Name': 'kent', 'GPA': 4.0}"
      ]
     },
     "execution_count": 42,
     "metadata": {},
     "output_type": "execute_result"
    }
   ],
   "source": [
    "students[-1]"
   ]
  },
  {
   "cell_type": "code",
   "execution_count": 44,
   "metadata": {},
   "outputs": [
    {
     "data": {
      "text/plain": [
       "2.8"
      ]
     },
     "execution_count": 44,
     "metadata": {},
     "output_type": "execute_result"
    }
   ],
   "source": [
    "students[1]['GPA']"
   ]
  },
  {
   "cell_type": "code",
   "execution_count": 46,
   "metadata": {},
   "outputs": [
    {
     "data": {
      "text/plain": [
       "'[\\n  { \"symbol\" : \"AAPL\", \"price\" : 126.82 },\\n  { \"symbol\" : \"AMZN\", \"price\" : 3098.12 },\\n  { \"symbol\" : \"FB\", \"price\" : 251.11 },\\n  { \"symbol\" : \"GOOG\", \"price\" : 1725.05 },\\n  { \"symbol\" : \"IBM\", \"price\" : 128.39 },\\n  { \"symbol\" : \"MSFT\", \"price\" : 212.55 },\\n  { \"symbol\" : \"NET\", \"price\" : 78.00 },\\n  { \"symbol\" : \"NFLX\", \"price\" : 497.00 },\\n  { \"symbol\" : \"TSLA\", \"price\" : 823.80 },\\n  { \"symbol\" : \"TWTR\", \"price\" : 45.11 }\\n]\\n'"
      ]
     },
     "execution_count": 46,
     "metadata": {},
     "output_type": "execute_result"
    }
   ],
   "source": [
    "#let's read in stock json\n",
    "with open(\"stocks.json\",\"r\") as f:\n",
    "    contents = f.read()\n",
    "    \n",
    "contents"
   ]
  },
  {
   "cell_type": "code",
   "execution_count": 47,
   "metadata": {},
   "outputs": [
    {
     "data": {
      "text/plain": [
       "str"
      ]
     },
     "execution_count": 47,
     "metadata": {},
     "output_type": "execute_result"
    }
   ],
   "source": [
    "type(contents)"
   ]
  },
  {
   "cell_type": "code",
   "execution_count": 48,
   "metadata": {},
   "outputs": [],
   "source": [
    "import json"
   ]
  },
  {
   "cell_type": "code",
   "execution_count": 49,
   "metadata": {},
   "outputs": [],
   "source": [
    "stocks = json.loads(contents)"
   ]
  },
  {
   "cell_type": "code",
   "execution_count": 50,
   "metadata": {},
   "outputs": [
    {
     "data": {
      "text/plain": [
       "list"
      ]
     },
     "execution_count": 50,
     "metadata": {},
     "output_type": "execute_result"
    }
   ],
   "source": [
    "type(stocks)"
   ]
  },
  {
   "cell_type": "code",
   "execution_count": 51,
   "metadata": {},
   "outputs": [
    {
     "data": {
      "text/plain": [
       "{'symbol': 'AMZN', 'price': 3098.12}"
      ]
     },
     "execution_count": 51,
     "metadata": {},
     "output_type": "execute_result"
    }
   ],
   "source": [
    "stocks[1]"
   ]
  },
  {
   "cell_type": "code",
   "execution_count": 52,
   "metadata": {},
   "outputs": [
    {
     "data": {
      "text/plain": [
       "3098.12"
      ]
     },
     "execution_count": 52,
     "metadata": {},
     "output_type": "execute_result"
    }
   ],
   "source": [
    "stocks[1]['price']"
   ]
  },
  {
   "cell_type": "code",
   "execution_count": 55,
   "metadata": {},
   "outputs": [],
   "source": [
    "with open(\"US-Senators.json\",\"r\") as f:\n",
    "    contents = f.read()\n",
    "    data = json.loads(contents)"
   ]
  },
  {
   "cell_type": "code",
   "execution_count": 59,
   "metadata": {},
   "outputs": [
    {
     "data": {
      "text/plain": [
       "'202-228-1375'"
      ]
     },
     "execution_count": 59,
     "metadata": {},
     "output_type": "execute_result"
    }
   ],
   "source": [
    "data[0]['extra']['fax']"
   ]
  },
  {
   "cell_type": "code",
   "execution_count": 60,
   "metadata": {},
   "outputs": [],
   "source": [
    "def read_json_file_to_python_object(filename):\n",
    "    with open(filename,\"r\") as f:\n",
    "        contents = f.read()\n",
    "        data = json.loads(contents)\n",
    "        return data"
   ]
  },
  {
   "cell_type": "code",
   "execution_count": 61,
   "metadata": {},
   "outputs": [],
   "source": [
    "senators = read_json_file_to_python_object(\"US-Senators.json\")"
   ]
  },
  {
   "cell_type": "code",
   "execution_count": 66,
   "metadata": {},
   "outputs": [
    {
     "data": {
      "text/plain": [
       "100"
      ]
     },
     "execution_count": 66,
     "metadata": {},
     "output_type": "execute_result"
    }
   ],
   "source": [
    "len(senators)"
   ]
  },
  {
   "cell_type": "code",
   "execution_count": 75,
   "metadata": {},
   "outputs": [
    {
     "data": {
      "text/plain": [
       "dict_keys(['caucus', 'congress_numbers', 'current', 'description', 'district', 'enddate', 'extra', 'leadership_title', 'party', 'person', 'phone', 'role_type', 'role_type_label', 'senator_class', 'senator_class_label', 'senator_rank', 'senator_rank_label', 'startdate', 'state', 'title', 'title_long', 'website'])"
      ]
     },
     "execution_count": 75,
     "metadata": {},
     "output_type": "execute_result"
    }
   ],
   "source": [
    "senators[9].keys()"
   ]
  },
  {
   "cell_type": "code",
   "execution_count": 84,
   "metadata": {},
   "outputs": [
    {
     "data": {
      "text/plain": [
       "{'caucus': None,\n",
       " 'congress_numbers': [115, 116, 117],\n",
       " 'current': True,\n",
       " 'description': 'Senior Senator for Arkansas',\n",
       " 'district': None,\n",
       " 'enddate': '2023-01-03',\n",
       " 'extra': {'address': '141 Hart Senate Office Building Washington DC 20510',\n",
       "  'contact_form': 'https://www.boozman.senate.gov/public/index.cfm/contact',\n",
       "  'fax': '202-228-1371',\n",
       "  'office': '141 Hart Senate Office Building',\n",
       "  'rss_url': 'http://www.boozman.senate.gov/public/index.cfm/rss/feed'},\n",
       " 'leadership_title': None,\n",
       " 'party': 'Republican',\n",
       " 'person': {'bioguideid': 'B001236',\n",
       "  'birthday': '1950-12-10',\n",
       "  'cspanid': 92069,\n",
       "  'firstname': 'John',\n",
       "  'gender': 'male',\n",
       "  'gender_label': 'Male',\n",
       "  'lastname': 'Boozman',\n",
       "  'link': 'https://www.govtrack.us/congress/members/john_boozman/400040',\n",
       "  'middlename': '',\n",
       "  'name': 'Sen. John Boozman [R-AR]',\n",
       "  'namemod': '',\n",
       "  'nickname': '',\n",
       "  'osid': 'N00013873',\n",
       "  'pvsid': '27958',\n",
       "  'sortname': 'Boozman, John (Sen.) [R-AR]',\n",
       "  'twitterid': 'JohnBoozman',\n",
       "  'youtubeid': 'BoozmanPressOffice'},\n",
       " 'phone': '202-224-4843',\n",
       " 'role_type': 'senator',\n",
       " 'role_type_label': 'Senator',\n",
       " 'senator_class': 'class3',\n",
       " 'senator_class_label': 'Class 3',\n",
       " 'senator_rank': 'senior',\n",
       " 'senator_rank_label': 'Senior',\n",
       " 'startdate': '2017-01-03',\n",
       " 'state': 'AR',\n",
       " 'title': 'Sen.',\n",
       " 'title_long': 'Senator',\n",
       " 'website': 'https://www.boozman.senate.gov/public'}"
      ]
     },
     "execution_count": 84,
     "metadata": {},
     "output_type": "execute_result"
    }
   ],
   "source": [
    "senators[9]"
   ]
  },
  {
   "cell_type": "code",
   "execution_count": 85,
   "metadata": {},
   "outputs": [
    {
     "name": "stdout",
     "output_type": "stream",
     "text": [
      "Sen. Michael “Mike” Crapo [R-ID] 202-228-1375\n",
      "Sen. Charles “Chuck” Grassley [R-IA] 202-224-6020\n",
      "Sen. Patrick Leahy [D-VT] 202-224-3479\n",
      "Sen. Lisa Murkowski [R-AK] 202-224-5301\n",
      "Sen. Patty Murray [D-WA] 202-224-0238\n",
      "Sen. Charles “Chuck” Schumer [D-NY] 202-228-3027\n",
      "Sen. Richard Shelby [R-AL] 202-224-3416\n",
      "Sen. Ron Wyden [D-OR] 202-228-2717\n",
      "Sen. Roy Blunt [R-MO] 202-224-8149\n",
      "Sen. John Boozman [R-AR] 202-228-1371\n",
      "Sen. Richard Burr [R-NC] 202-228-2981\n",
      "Sen. Jerry Moran [R-KS] 202-228-6966\n",
      "Sen. Robert “Rob” Portman [R-OH] no fax #\n",
      "Sen. Patrick “Pat” Toomey [R-PA] 202-228-0284\n",
      "Sen. Chris Van Hollen [D-MD] 202-225-0375\n",
      "Sen. John Thune [R-SD] 202-228-5429\n",
      "Sen. Michael Bennet [D-CO] 202-228-5097\n",
      "Sen. Todd Young [R-IN] 202-226-6866\n",
      "Sen. James Lankford [R-OK] no fax #\n",
      "Sen. Tim Scott [R-SC] 202-225-3407\n",
      "Sen. Richard Blumenthal [D-CT] 202-224-9673\n",
      "Sen. Marco Rubio [R-FL] 202-228-0285\n",
      "Sen. Rand Paul [R-KY] 202-228-1373\n",
      "Sen. John Hoeven [R-ND] 202-224-7999\n",
      "Sen. Mike Lee [R-UT] no fax #\n",
      "Sen. Ron Johnson [R-WI] 920-230-7262\n",
      "Sen. Brian Schatz [D-HI] 202-228-1153\n",
      "Sen. Tammy Duckworth [D-IL] no fax #\n",
      "Sen. John Kennedy [R-LA] no fax #\n",
      "Sen. Margaret “Maggie” Hassan [D-NH] no fax #\n",
      "Sen. Catherine Cortez Masto [D-NV] no fax #\n",
      "Sen. Maria Cantwell [D-WA] no fax #\n",
      "Sen. Thomas Carper [D-DE] no fax #\n",
      "Sen. Dianne Feinstein [D-CA] no fax #\n",
      "Sen. Debbie Stabenow [D-MI] no fax #\n",
      "Sen. Tammy Baldwin [D-WI] no fax #\n",
      "Sen. Marsha Blackburn [R-TN] no fax #\n",
      "Sen. Sherrod Brown [D-OH] no fax #\n",
      "Sen. Benjamin Cardin [D-MD] no fax #\n",
      "Sen. Robert “Bob” Menendez [D-NJ] no fax #\n",
      "Sen. Bernard “Bernie” Sanders [I-VT] no fax #\n",
      "Sen. Roger Wicker [R-MS] no fax #\n",
      "Sen. Christopher Murphy [D-CT] no fax #\n",
      "Sen. Mazie Hirono [D-HI] no fax #\n",
      "Sen. Kirsten Gillibrand [D-NY] no fax #\n",
      "Sen. Amy Klobuchar [D-MN] no fax #\n",
      "Sen. Jon Tester [D-MT] no fax #\n",
      "Sen. Robert “Bob” Casey [D-PA] no fax #\n",
      "Sen. Sheldon Whitehouse [D-RI] no fax #\n",
      "Sen. John Barrasso [R-WY] no fax #\n",
      "Sen. Martin Heinrich [D-NM] no fax #\n",
      "Sen. Joe Manchin [D-WV] no fax #\n",
      "Sen. Kyrsten Sinema [D-AZ] no fax #\n",
      "Sen. Elizabeth Warren [D-MA] no fax #\n",
      "Sen. Angus King [I-ME] no fax #\n",
      "Sen. Kevin Cramer [R-ND] no fax #\n",
      "Sen. Deb Fischer [R-NE] no fax #\n",
      "Sen. Ted Cruz [R-TX] no fax #\n",
      "Sen. Timothy “Tim” Kaine [D-VA] no fax #\n",
      "Sen. Jacky Rosen [D-NV] no fax #\n",
      "Sen. Rick Scott [R-FL] no fax #\n",
      "Sen. Mike Braun [R-IN] no fax #\n",
      "Sen. Joshua “Josh” Hawley [R-MO] no fax #\n",
      "Sen. Mitt Romney [R-UT] no fax #\n",
      "Sen. Mark Kelly [D-AZ] no fax #\n",
      "Sen. Susan Collins [R-ME] no fax #\n",
      "Sen. John Cornyn [R-TX] no fax #\n",
      "Sen. Richard Durbin [D-IL] no fax #\n",
      "Sen. Lindsey Graham [R-SC] no fax #\n",
      "Sen. James “Jim” Inhofe [R-OK] no fax #\n",
      "Sen. Mitch McConnell [R-KY] no fax #\n",
      "Sen. Jeff Merkley [D-OR] no fax #\n",
      "Sen. John “Jack” Reed [D-RI] no fax #\n",
      "Sen. James Risch [R-ID] no fax #\n",
      "Sen. Jeanne Shaheen [D-NH] no fax #\n",
      "Sen. Mark Warner [D-VA] no fax #\n",
      "Sen. Christopher Coons [D-DE] no fax #\n",
      "Sen. Shelley Capito [R-WV] no fax #\n",
      "Sen. Bill Cassidy [R-LA] no fax #\n",
      "Sen. Ben Luján [D-NM] no fax #\n",
      "Sen. Edward “Ed” Markey [D-MA] no fax #\n",
      "Sen. Gary Peters [D-MI] no fax #\n",
      "Sen. Tom Cotton [R-AR] no fax #\n",
      "Sen. Steve Daines [R-MT] no fax #\n",
      "Sen. Cory Booker [D-NJ] no fax #\n",
      "Sen. Dan Sullivan [R-AK] no fax #\n",
      "Sen. Joni Ernst [R-IA] no fax #\n",
      "Sen. Thom Tillis [R-NC] no fax #\n",
      "Sen. Mike Rounds [R-SD] no fax #\n",
      "Sen. Benjamin “Ben” Sasse [R-NE] no fax #\n",
      "Sen. Roger Marshall [R-KS] no fax #\n",
      "Sen. Tina Smith [D-MN] no fax #\n",
      "Sen. Cindy Hyde-Smith [R-MS] no fax #\n",
      "Sen. Cynthia Lummis [R-WY] no fax #\n",
      "Sen. Tommy Tuberville [R-AL] no fax #\n",
      "Sen. John Hickenlooper [D-CO] no fax #\n",
      "Sen. Bill Hagerty [R-TN] no fax #\n",
      "Sen. Alejandro “Alex” Padilla [D-CA] no fax #\n",
      "Sen. Jon Ossoff [D-GA] no fax #\n",
      "Sen. Raphael Warnock [D-GA] no fax #\n"
     ]
    }
   ],
   "source": [
    "for senator in senators:\n",
    "    fax = senator['extra'].get('fax', \"no fax #\")\n",
    "    name = senator['person']['name']\n",
    "    print(name, fax)\n",
    "    "
   ]
  },
  {
   "cell_type": "code",
   "execution_count": 88,
   "metadata": {},
   "outputs": [
    {
     "data": {
      "text/plain": [
       "{'caucus': None,\n",
       " 'congress_numbers': [116, 117, 118],\n",
       " 'current': True,\n",
       " 'description': 'Senior Senator for Minnesota',\n",
       " 'district': None,\n",
       " 'enddate': '2025-01-03',\n",
       " 'extra': {'address': '425 Dirksen Senate Office Building Washington DC 20510',\n",
       "  'contact_form': 'https://www.klobuchar.senate.gov/public/index.cfm/contact',\n",
       "  'office': '425 Dirksen Senate Office Building'},\n",
       " 'leadership_title': 'Senate Democratic Steering Committee Chair',\n",
       " 'party': 'Democrat',\n",
       " 'person': {'bioguideid': 'K000367',\n",
       "  'birthday': '1960-05-25',\n",
       "  'cspanid': 83701,\n",
       "  'firstname': 'Amy',\n",
       "  'gender': 'female',\n",
       "  'gender_label': 'Female',\n",
       "  'lastname': 'Klobuchar',\n",
       "  'link': 'https://www.govtrack.us/congress/members/amy_klobuchar/412242',\n",
       "  'middlename': 'Jean',\n",
       "  'name': 'Sen. Amy Klobuchar [D-MN]',\n",
       "  'namemod': '',\n",
       "  'nickname': '',\n",
       "  'osid': 'N00027500',\n",
       "  'pvsid': '65092',\n",
       "  'sortname': 'Klobuchar, Amy (Sen.) [D-MN]',\n",
       "  'twitterid': 'SenAmyKlobuchar',\n",
       "  'youtubeid': 'senatorklobuchar'},\n",
       " 'phone': '202-224-3244',\n",
       " 'role_type': 'senator',\n",
       " 'role_type_label': 'Senator',\n",
       " 'senator_class': 'class1',\n",
       " 'senator_class_label': 'Class 1',\n",
       " 'senator_rank': 'senior',\n",
       " 'senator_rank_label': 'Senior',\n",
       " 'startdate': '2019-01-03',\n",
       " 'state': 'MN',\n",
       " 'title': 'Sen.',\n",
       " 'title_long': 'Senator',\n",
       " 'website': 'https://www.klobuchar.senate.gov'}"
      ]
     },
     "execution_count": 88,
     "metadata": {},
     "output_type": "execute_result"
    }
   ],
   "source": [
    "senators[45]"
   ]
  },
  {
   "cell_type": "code",
   "execution_count": 95,
   "metadata": {},
   "outputs": [
    {
     "data": {
      "text/plain": [
       "'JohnBoozman'"
      ]
     },
     "execution_count": 95,
     "metadata": {},
     "output_type": "execute_result"
    }
   ],
   "source": [
    "senators[9]['person'].get('twitterid',\"\")\n"
   ]
  },
  {
   "cell_type": "code",
   "execution_count": 96,
   "metadata": {},
   "outputs": [
    {
     "name": "stdout",
     "output_type": "stream",
     "text": [
      "MikeCrapo\n",
      "ChuckGrassley\n",
      "SenatorLeahy\n",
      "LisaMurkowski\n",
      "PattyMurray\n",
      "SenSchumer\n",
      "SenShelby\n",
      "RonWyden\n",
      "RoyBlunt\n",
      "JohnBoozman\n",
      "SenatorBurr\n",
      "JerryMoran\n",
      "SenRobPortman\n",
      "SenToomey\n",
      "ChrisVanHollen\n",
      "SenJohnThune\n",
      "SenatorBennet\n",
      "SenToddYoung\n",
      "SenatorLankford\n",
      "SenatorTimScott\n",
      "SenBlumenthal\n",
      "SenRubioPress\n",
      "SenRandPaul\n",
      "SenJohnHoeven\n",
      "SenMikeLee\n",
      "SenRonJohnson\n",
      "SenBrianSchatz\n",
      "SenDuckworth\n",
      "SenJohnKennedy\n",
      "SenatorHassan\n",
      "SenCortezMasto\n",
      "SenatorCantwell\n",
      "SenatorCarper\n",
      "SenFeinstein\n",
      "SenStabenow\n",
      "SenatorBaldwin\n",
      "MarshaBlackburn\n",
      "SenSherrodBrown\n",
      "SenatorCardin\n",
      "SenatorMenendez\n",
      "SenSanders\n",
      "SenatorWicker\n",
      "SenMurphyOffice\n",
      "MazieHirono\n",
      "GillibrandNY\n",
      "SenAmyKlobuchar\n",
      "SenatorTester\n",
      "SenBobCasey\n",
      "SenWhitehouse\n",
      "SenJohnBarrasso\n",
      "MartinHeinrich\n",
      "Sen_JoeManchin\n",
      "SenatorSinema\n",
      "SenWarren\n",
      "SenAngusKing\n",
      "SenKevinCramer\n",
      "SenatorFischer\n",
      "SenTedCruz\n",
      "None\n",
      "SenJackyRosen\n",
      "SenRickScott\n",
      "SenatorBraun\n",
      "SenHawleyPress\n",
      "SenatorRomney\n",
      "SenMarkKelly\n",
      "SenatorCollins\n",
      "JohnCornyn\n",
      "SenatorDurbin\n",
      "GrahamBlog\n",
      "JimInhofe\n",
      "McConnellPress\n",
      "SenJeffMerkley\n",
      "SenJackReed\n",
      "SenatorRisch\n",
      "SenatorShaheen\n",
      "MarkWarner\n",
      "ChrisCoons\n",
      "SenCapito\n",
      "SenBillCassidy\n",
      "SenatorLujan\n",
      "SenMarkey\n",
      "SenGaryPeters\n",
      "SenTomCotton\n",
      "SteveDaines\n",
      "SenBooker\n",
      "SenDanSullivan\n",
      "SenJoniErnst\n",
      "SenThomTillis\n",
      "SenatorRounds\n",
      "SenSasse\n",
      "SenatorMarshall\n",
      "SenTinaSmith\n",
      "SenHydeSmith\n",
      "SenLummis\n",
      "SenTuberville\n",
      "SenatorHick\n",
      "SenatorHagerty\n",
      "SenAlexPadilla\n",
      "SenOssoff\n",
      "SenatorWarnock\n"
     ]
    }
   ],
   "source": [
    "for s in senators:\n",
    "    twitter = s['person'].get('twitterid',\"\")\n",
    "    print(twitter)"
   ]
  },
  {
   "cell_type": "code",
   "execution_count": null,
   "metadata": {},
   "outputs": [],
   "source": []
  }
 ],
 "metadata": {
  "kernelspec": {
   "display_name": "Python 3 (ipykernel)",
   "language": "python",
   "name": "python3"
  },
  "language_info": {
   "codemirror_mode": {
    "name": "ipython",
    "version": 3
   },
   "file_extension": ".py",
   "mimetype": "text/x-python",
   "name": "python",
   "nbconvert_exporter": "python",
   "pygments_lexer": "ipython3",
   "version": "3.9.7"
  },
  "varInspector": {
   "cols": {
    "lenName": 16,
    "lenType": 16,
    "lenVar": 40
   },
   "kernels_config": {
    "python": {
     "delete_cmd_postfix": "",
     "delete_cmd_prefix": "del ",
     "library": "var_list.py",
     "varRefreshCmd": "print(var_dic_list())"
    },
    "r": {
     "delete_cmd_postfix": ") ",
     "delete_cmd_prefix": "rm(",
     "library": "var_list.r",
     "varRefreshCmd": "cat(var_dic_list()) "
    }
   },
   "types_to_exclude": [
    "module",
    "function",
    "builtin_function_or_method",
    "instance",
    "_Feature"
   ],
   "window_display": false
  }
 },
 "nbformat": 4,
 "nbformat_minor": 4
}
