{
 "cells": [
  {
   "cell_type": "markdown",
   "metadata": {},
   "source": [
    "# Code Samples From Large Group\n"
   ]
  },
  {
   "cell_type": "code",
   "execution_count": 4,
   "metadata": {},
   "outputs": [],
   "source": [
    "def paint_area(wall_length, wall_width, wall_height):\n",
    "    '''\n",
    "    This calculates how much paint to use in a room\n",
    "    return paint area\n",
    "    '''\n",
    "    area = 2 * wall_length * wall_height + 2* wall_width * wall_height\n",
    "    return area\n"
   ]
  },
  {
   "cell_type": "code",
   "execution_count": 5,
   "metadata": {
    "collapsed": true
   },
   "outputs": [
    {
     "name": "stdout",
     "output_type": "stream",
     "text": [
      "Help on function paint_area in module __main__:\n",
      "\n",
      "paint_area(wall_length, wall_width, wall_height)\n",
      "    This calculates how much paint to use in a room\n",
      "    return paint area\n",
      "\n"
     ]
    }
   ],
   "source": [
    "help(paint_area)"
   ]
  },
  {
   "cell_type": "code",
   "execution_count": 10,
   "metadata": {},
   "outputs": [
    {
     "name": "stdout",
     "output_type": "stream",
     "text": [
      "480\n"
     ]
    }
   ],
   "source": [
    "a = paint_area(wall_length=10,wall_width=20,wall_height=8)\n",
    "print(a)"
   ]
  },
  {
   "cell_type": "code",
   "execution_count": 8,
   "metadata": {},
   "outputs": [],
   "source": [
    "a2 = paint_area(5,8,3)"
   ]
  },
  {
   "cell_type": "code",
   "execution_count": 9,
   "metadata": {},
   "outputs": [
    {
     "name": "stdout",
     "output_type": "stream",
     "text": [
      "78\n"
     ]
    }
   ],
   "source": [
    "print(a2)"
   ]
  },
  {
   "cell_type": "code",
   "execution_count": 11,
   "metadata": {},
   "outputs": [
    {
     "name": "stdout",
     "output_type": "stream",
     "text": [
      "Enter wall length: 10\n",
      "Enter wall width: 8\n",
      "Enter wall height: 10\n",
      "360\n"
     ]
    }
   ],
   "source": [
    "length = int(input(\"Enter wall length: \"))\n",
    "width = int(input(\"Enter wall width: \"))\n",
    "height = int(input(\"Enter wall height: \"))\n",
    "paint = paint_area(wall_length=length, wall_width=width, wall_height=height)\n",
    "print(paint)\n",
    "\n"
   ]
  },
  {
   "cell_type": "code",
   "execution_count": 12,
   "metadata": {},
   "outputs": [
    {
     "name": "stdout",
     "output_type": "stream",
     "text": [
      "Help on built-in function print in module builtins:\n",
      "\n",
      "print(...)\n",
      "    print(value, ..., sep=' ', end='\\n', file=sys.stdout, flush=False)\n",
      "    \n",
      "    Prints the values to a stream, or to sys.stdout by default.\n",
      "    Optional keyword arguments:\n",
      "    file:  a file-like object (stream); defaults to the current sys.stdout.\n",
      "    sep:   string inserted between values, default a space.\n",
      "    end:   string appended after the last value, default a newline.\n",
      "    flush: whether to forcibly flush the stream.\n",
      "\n"
     ]
    }
   ],
   "source": []
  },
  {
   "cell_type": "code",
   "execution_count": 14,
   "metadata": {},
   "outputs": [],
   "source": [
    "import datetime"
   ]
  },
  {
   "cell_type": "code",
   "execution_count": 16,
   "metadata": {},
   "outputs": [
    {
     "data": {
      "text/plain": [
       "['__add__',\n",
       " '__class__',\n",
       " '__delattr__',\n",
       " '__dir__',\n",
       " '__doc__',\n",
       " '__eq__',\n",
       " '__format__',\n",
       " '__ge__',\n",
       " '__getattribute__',\n",
       " '__gt__',\n",
       " '__hash__',\n",
       " '__init__',\n",
       " '__init_subclass__',\n",
       " '__le__',\n",
       " '__lt__',\n",
       " '__ne__',\n",
       " '__new__',\n",
       " '__radd__',\n",
       " '__reduce__',\n",
       " '__reduce_ex__',\n",
       " '__repr__',\n",
       " '__rsub__',\n",
       " '__setattr__',\n",
       " '__sizeof__',\n",
       " '__str__',\n",
       " '__sub__',\n",
       " '__subclasshook__',\n",
       " 'astimezone',\n",
       " 'combine',\n",
       " 'ctime',\n",
       " 'date',\n",
       " 'day',\n",
       " 'dst',\n",
       " 'fold',\n",
       " 'fromisocalendar',\n",
       " 'fromisoformat',\n",
       " 'fromordinal',\n",
       " 'fromtimestamp',\n",
       " 'hour',\n",
       " 'isocalendar',\n",
       " 'isoformat',\n",
       " 'isoweekday',\n",
       " 'max',\n",
       " 'microsecond',\n",
       " 'min',\n",
       " 'minute',\n",
       " 'month',\n",
       " 'now',\n",
       " 'replace',\n",
       " 'resolution',\n",
       " 'second',\n",
       " 'strftime',\n",
       " 'strptime',\n",
       " 'time',\n",
       " 'timestamp',\n",
       " 'timetuple',\n",
       " 'timetz',\n",
       " 'today',\n",
       " 'toordinal',\n",
       " 'tzinfo',\n",
       " 'tzname',\n",
       " 'utcfromtimestamp',\n",
       " 'utcnow',\n",
       " 'utcoffset',\n",
       " 'utctimetuple',\n",
       " 'weekday',\n",
       " 'year']"
      ]
     },
     "execution_count": 16,
     "metadata": {},
     "output_type": "execute_result"
    }
   ],
   "source": [
    "dir(datetime.datetime)"
   ]
  },
  {
   "cell_type": "code",
   "execution_count": 17,
   "metadata": {},
   "outputs": [
    {
     "name": "stdout",
     "output_type": "stream",
     "text": [
      "Help on built-in function now:\n",
      "\n",
      "now(tz=None) method of builtins.type instance\n",
      "    Returns new datetime object representing current time local to tz.\n",
      "    \n",
      "      tz\n",
      "        Timezone object.\n",
      "    \n",
      "    If no tz is specified, uses local timezone.\n",
      "\n"
     ]
    }
   ],
   "source": [
    "help(datetime.datetime.now)"
   ]
  },
  {
   "cell_type": "code",
   "execution_count": 18,
   "metadata": {},
   "outputs": [
    {
     "data": {
      "text/plain": [
       "datetime.datetime(2022, 9, 26, 16, 33, 17, 997350)"
      ]
     },
     "execution_count": 18,
     "metadata": {},
     "output_type": "execute_result"
    }
   ],
   "source": [
    "datetime.datetime.now()"
   ]
  },
  {
   "cell_type": "code",
   "execution_count": 19,
   "metadata": {},
   "outputs": [
    {
     "data": {
      "text/plain": [
       "datetime.datetime(2022, 9, 26, 16, 33, 47, 950692)"
      ]
     },
     "execution_count": 19,
     "metadata": {},
     "output_type": "execute_result"
    }
   ],
   "source": [
    "datetime.datetime.now()"
   ]
  },
  {
   "cell_type": "code",
   "execution_count": 20,
   "metadata": {},
   "outputs": [
    {
     "data": {
      "text/plain": [
       "datetime.datetime(2022, 9, 26, 16, 33, 50, 492754)"
      ]
     },
     "execution_count": 20,
     "metadata": {},
     "output_type": "execute_result"
    }
   ],
   "source": [
    "datetime.datetime.now()"
   ]
  },
  {
   "cell_type": "code",
   "execution_count": 21,
   "metadata": {},
   "outputs": [
    {
     "name": "stdout",
     "output_type": "stream",
     "text": [
      "Requirement already satisfied: gtts in /opt/conda/lib/python3.9/site-packages (2.2.4)\r\n",
      "Requirement already satisfied: six in /opt/conda/lib/python3.9/site-packages (from gtts) (1.16.0)\r\n",
      "Requirement already satisfied: click in /opt/conda/lib/python3.9/site-packages (from gtts) (8.0.3)\r\n",
      "Requirement already satisfied: requests in /opt/conda/lib/python3.9/site-packages (from gtts) (2.27.1)\r\n",
      "Requirement already satisfied: idna<4,>=2.5 in /opt/conda/lib/python3.9/site-packages (from requests->gtts) (3.3)\r\n",
      "Requirement already satisfied: urllib3<1.27,>=1.21.1 in /opt/conda/lib/python3.9/site-packages (from requests->gtts) (1.26.8)\r\n",
      "Requirement already satisfied: charset-normalizer~=2.0.0 in /opt/conda/lib/python3.9/site-packages (from requests->gtts) (2.0.11)\r\n",
      "Requirement already satisfied: certifi>=2017.4.17 in /opt/conda/lib/python3.9/site-packages (from requests->gtts) (2021.10.8)\r\n"
     ]
    }
   ],
   "source": [
    "!pip install gtts"
   ]
  },
  {
   "cell_type": "code",
   "execution_count": 22,
   "metadata": {},
   "outputs": [],
   "source": [
    "import gtts"
   ]
  },
  {
   "cell_type": "code",
   "execution_count": 26,
   "metadata": {},
   "outputs": [
    {
     "name": "stdout",
     "output_type": "stream",
     "text": [
      "Help on class gTTS in module gtts.tts:\n",
      "\n",
      "class gTTS(builtins.object)\n",
      " |  gTTS(text, tld='com', lang='en', slow=False, lang_check=True, pre_processor_funcs=[<function tone_marks at 0x7fb2a3f660d0>, <function end_of_line at 0x7fb2a3f4c4c0>, <function abbreviations at 0x7fb2a3f4c550>, <function word_sub at 0x7fb2a3f4c5e0>], tokenizer_func=<bound method Tokenizer.run of re.compile('(?<=\\\\?).|(?<=!).|(?<=？).|(?<=！).|(?<!\\\\.[a-z])\\\\. |(?<!\\\\.[a-z]), |(?<!\\\\d):|：|\\\\]|;|\\\\(|¿|—|，|¡|\\\\[|。|‥|\\\\)|،|、|\\\\\\n|…', re.IGNORECASE) from: [<function tone_marks at 0x7fb2a3f4c700>, <function period_comma at 0x7fb2a3f4c790>, <function colon at 0x7fb2a3f4c820>, <function other_punctuation at 0x7fb2a3f4c8b0>]>)\n",
      " |  \n",
      " |  gTTS -- Google Text-to-Speech.\n",
      " |  \n",
      " |  An interface to Google Translate's Text-to-Speech API.\n",
      " |  \n",
      " |  Args:\n",
      " |      text (string): The text to be read.\n",
      " |      tld (string): Top-level domain for the Google Translate host,\n",
      " |          i.e `https://translate.google.<tld>`. Different Google domains\n",
      " |          can produce different localized 'accents' for a given\n",
      " |          language. This is also useful when ``google.com`` might be blocked\n",
      " |          within a network but a local or different Google host\n",
      " |          (e.g. ``google.cn``) is not. Default is ``com``.\n",
      " |      lang (string, optional): The language (IETF language tag) to\n",
      " |          read the text in. Default is ``en``.\n",
      " |      slow (bool, optional): Reads text more slowly. Defaults to ``False``.\n",
      " |      lang_check (bool, optional): Strictly enforce an existing ``lang``,\n",
      " |          to catch a language error early. If set to ``True``,\n",
      " |          a ``ValueError`` is raised if ``lang`` doesn't exist.\n",
      " |          Setting ``lang_check`` to ``False`` skips Web requests\n",
      " |          (to validate language) and therefore speeds up instanciation.\n",
      " |          Default is ``True``.\n",
      " |      pre_processor_funcs (list): A list of zero or more functions that are\n",
      " |          called to transform (pre-process) text before tokenizing. Those\n",
      " |          functions must take a string and return a string. Defaults to::\n",
      " |  \n",
      " |              [\n",
      " |                  pre_processors.tone_marks,\n",
      " |                  pre_processors.end_of_line,\n",
      " |                  pre_processors.abbreviations,\n",
      " |                  pre_processors.word_sub\n",
      " |              ]\n",
      " |  \n",
      " |      tokenizer_func (callable): A function that takes in a string and\n",
      " |          returns a list of string (tokens). Defaults to::\n",
      " |  \n",
      " |              Tokenizer([\n",
      " |                  tokenizer_cases.tone_marks,\n",
      " |                  tokenizer_cases.period_comma,\n",
      " |                  tokenizer_cases.colon,\n",
      " |                  tokenizer_cases.other_punctuation\n",
      " |              ]).run\n",
      " |  \n",
      " |  See Also:\n",
      " |      :doc:`Pre-processing and tokenizing <tokenizer>`\n",
      " |  \n",
      " |  Raises:\n",
      " |      AssertionError: When ``text`` is ``None`` or empty; when there's nothing\n",
      " |          left to speak after pre-precessing, tokenizing and cleaning.\n",
      " |      ValueError: When ``lang_check`` is ``True`` and ``lang`` is not supported.\n",
      " |      RuntimeError: When ``lang_check`` is ``True`` but there's an error loading\n",
      " |          the languages dictionary.\n",
      " |  \n",
      " |  Methods defined here:\n",
      " |  \n",
      " |  __init__(self, text, tld='com', lang='en', slow=False, lang_check=True, pre_processor_funcs=[<function tone_marks at 0x7fb2a3f660d0>, <function end_of_line at 0x7fb2a3f4c4c0>, <function abbreviations at 0x7fb2a3f4c550>, <function word_sub at 0x7fb2a3f4c5e0>], tokenizer_func=<bound method Tokenizer.run of re.compile('(?<=\\\\?).|(?<=!).|(?<=？).|(?<=！).|(?<!\\\\.[a-z])\\\\. |(?<!\\\\.[a-z]), |(?<!\\\\d):|：|\\\\]|;|\\\\(|¿|—|，|¡|\\\\[|。|‥|\\\\)|،|、|\\\\\\n|…', re.IGNORECASE) from: [<function tone_marks at 0x7fb2a3f4c700>, <function period_comma at 0x7fb2a3f4c790>, <function colon at 0x7fb2a3f4c820>, <function other_punctuation at 0x7fb2a3f4c8b0>]>)\n",
      " |      Initialize self.  See help(type(self)) for accurate signature.\n",
      " |  \n",
      " |  get_bodies(self)\n",
      " |      Get TTS API request bodies(s) that would be sent to the TTS API.\n",
      " |      \n",
      " |      Returns:\n",
      " |          list: A list of TTS API request bodiess to make.\n",
      " |  \n",
      " |  save(self, savefile)\n",
      " |      Do the TTS API request and write result to file.\n",
      " |      \n",
      " |      Args:\n",
      " |          savefile (string): The path and file name to save the ``mp3`` to.\n",
      " |      \n",
      " |      Raises:\n",
      " |          :class:`gTTSError`: When there's an error with the API request.\n",
      " |  \n",
      " |  stream(self)\n",
      " |      Do the TTS API request(s) and stream bytes\n",
      " |      \n",
      " |      Raises:\n",
      " |          :class:`gTTSError`: When there's an error with the API request.\n",
      " |  \n",
      " |  write_to_fp(self, fp)\n",
      " |      Do the TTS API request(s) and write bytes to a file-like object.\n",
      " |      \n",
      " |      Args:\n",
      " |          fp (file object): Any file-like object to write the ``mp3`` to.\n",
      " |      \n",
      " |      Raises:\n",
      " |          :class:`gTTSError`: When there's an error with the API request.\n",
      " |          TypeError: When ``fp`` is not a file-like object that takes bytes.\n",
      " |  \n",
      " |  ----------------------------------------------------------------------\n",
      " |  Data descriptors defined here:\n",
      " |  \n",
      " |  __dict__\n",
      " |      dictionary for instance variables (if defined)\n",
      " |  \n",
      " |  __weakref__\n",
      " |      list of weak references to the object (if defined)\n",
      " |  \n",
      " |  ----------------------------------------------------------------------\n",
      " |  Data and other attributes defined here:\n",
      " |  \n",
      " |  GOOGLE_TTS_HEADERS = {'Content-Type': 'application/x-www-form-urlencod...\n",
      " |  \n",
      " |  GOOGLE_TTS_MAX_CHARS = 100\n",
      " |  \n",
      " |  GOOGLE_TTS_RPC = 'jQ1olc'\n",
      "\n"
     ]
    }
   ],
   "source": [
    "help(gtts.gTTS)"
   ]
  },
  {
   "cell_type": "code",
   "execution_count": 27,
   "metadata": {},
   "outputs": [],
   "source": [
    "thing = gtts.gTTS(\"Hello World\")"
   ]
  },
  {
   "cell_type": "code",
   "execution_count": 30,
   "metadata": {},
   "outputs": [],
   "source": [
    "thing.save(\"hello.mp3\")"
   ]
  },
  {
   "cell_type": "code",
   "execution_count": 31,
   "metadata": {},
   "outputs": [],
   "source": [
    "from IPython.display import Audio"
   ]
  },
  {
   "cell_type": "code",
   "execution_count": 32,
   "metadata": {},
   "outputs": [
    {
     "data": {
      "text/html": [
       "\n",
       "                <audio  controls=\"controls\" >\n",
       "                    <source src=\"data:audio/mpeg;base64,//NExAAScEXgAUkYAAMGC4JgbDZO2jJECAgJECBAGS4Pg+D4IAgCAIAmD4Pg+D4IAgCAIBnLg+CAIYDB8Hwf4IAh4nBA5lwfB9+oEAx6QQ5cH39QIf+lovMYAuIMytd///NExAkTwc5QAZloAKtRk9Raf/fwtR7nC4aBtmy/dCgmX01/um8zSL4naX96GPQuJjvJNL+nrfKaay4gt//9DoMamQfDJ//5cDoDJQJO//u9FA0AkhRsV80C8W8r+PDa//NExA0VEZp8Ac9IAJhZ4Sx54ESWNUxPpMUg+o24RnKHUbmkCA2uMI1CcjNp1JNN9JzUttuaA3HzushnhcrlHa9Q91k49N4mcFg8TKfjw+Xpds/6VQLs/spZ6yK0zrrk//NExAsUuYaQAGpWlDQYDBhMVyEiYjZM/J4m3qhIxmUogTQoxWRwIGGbrLGk/TbyqaMabyimePlDaYtNXcexlsqmR/oHRYODxIIhb2wGIz4Y1/T/0GJf+1kGJAQSQ51K//NExAsVWgKkAMPKmUgNx9V8lsWCwTIx6ph8EsaI8Wqvj/CsZMPGyqvZ40kzyRW3Y4sSPAzfMNA+LFEDjYmNBnExNSJHt+tUS6Z9VRkPu1DE/9G5g88HtZ/H/jyWZNHP//NExAgUSTKwAMYecB1XBgVxXu4OkMFZzFsYwzMHfr3avWAtIs6ygF/YIHlbQ/DEePrHcXl3XXw63v1rH3853E3WL3NkzJvMhh4TfW9+wkeiDT1dN0iqrc/K6Q1TNtY4//NExAkUGh6wAMZKmckC2oex/5SAdF7UtNkxstxT97k0QiFsd1UjqjGrOERYc0HKtKsGRUf/+ol//8Ov79SgL6AcnV38f6t6W52tp5xRurenxPlk1Xd1vUfKt7F73bUV//NExAsSyaqoAM6KlBa4rCnuX26Gqn0+NrF4SyOV/ldDkHA7nM4CIAq3e6xlLgvb3/+a6/Ud4k/t9H9n5QKZu5Ov7dRE0wXybnhr3guqgbPth2wA2HjyyvHV1HGop10G//NExBIQAK6gAM6wTHYTKNOqajD1m/DaB0ut7g0dMPKo8Mfelxb9nW8b31a3f/yK2C6mndtZww89VapWDdaZbEYsyAYGh25LVGzrzAWCq1cwEYhUo7iqbFEG8oaWVUI5//NExCUREbqYANzElAAcYpH86TiNdf1v//////QMS2V//7KBE2b/////1YnqGg3uEbZQZWoFDJE6CACULOwAlNITPGIdQA8k+b1CXhmpqxGg14uc2Z1kD+e9b+v0/+/o//NExDMSabqUANxOlN6aRQVTsX9fp5wIuUjE+zZVqf///CFFpbW8oiF1Y0JkWNVhBlaCPtrAuCewPZw5jpuKHGktp0OGKSJsvucFyE5T1v1p+r///+3qZueGj8mmnC49//NExDwRaV6oANTOlOD/3/06f//Xp0pZn71XFJpn6yyloVioTR2bjPzdRu9rnx1NSkvZ7eFdE1c7p0nrgTv/Wp+//42/T7H+/p9uosAcJQiFlreozKgwGb/t/p////pq//NExEkSEU6wAMYElBl0tQSSFNn7G4DrgHcKpyvKBDcZh0Jrb4vJFeT8/c0kXP4YfEle0fP/VNz//Yg3Rn8zdUb53wkExdhENC2JHS7wCC49Qjf//sTVeD9brEh6hlX+//NExFMSSUqsAJ5KlFeBBfltLZqYhZ4DVLyJ0VHwSEFw1sdEBQwuyCTikiT9E96H+hL5/zm8QHu1DUfmlvmn+zaqWJv/LH/9v///0mm/3lthod8ey3XwbAcsjK77EaHd//NExFwR+a6oAM0OlAMDKDnERNkVAhCCkVS+bibwLPi6ZrSUMsaf/M3Ur9RFvMr5gGA79RLvyzoaPqBr8vKs+uqQ2uaxgIzKlqWONZN8yVcFW5QdKQ7gHiA7pG0zoCeg//NExGcR0U6gANUKlAlgmCRoXg6EDIUiqV1sUz/q/K/z+h/Q3UKA/M/8nqBvER7//////VV6r3/k0Uxxyp7laM0BkAeGjTeyNvIqtkduZvUrxxsIQsNAxCaltSVtR/vf//NExHIRmYqgANTElLlL3///pef0FeqfK/qbsgVviW6HbqBhGgsBH0h0UF2/93//5F8iYShAyTZ0j7iAWMiVURIfkrZDABgxr0BzNLygbE4GWwOIJQNy2PgIBIGkDkgc//NExH4UwYqQAN5ElD7G81fzb638hvlb0N9MkgNv/m9gYkUD4RdQzd////+hCwHPY3H3MAZgOZKFxSQtyFXg+5RDARqZBRViUAPEtBYKOJAxJgLhSENmSTLrN0n/9W5y//NExH4SsYaQAN0ElJf//QGJ//+XkHLi7HK/////rTDoAY9OO+BAcYQkRksJF43YS/JQU3/DBWygdAKlBhgAZ+aBwS06Za2GmSVwkucjXjV4EWO98M5mol/+oz62EjIL//NExIYRMYqIAN0ElBba7////+r3JRodW/FFrmNURxFGTGAUCAMCgYyGSocZpBCdqbgCBAUKCIkNylBOWTUFOFlNAcgjKsfQ7qxRPpIA6Km6YJhEKVfU14T/tLGyfWpm//NExJQScJZ8AObeTJAUrT0MGwDFQZiSuzAj4+m/OWI2UMZMFCzMzkyABS8VVMcJAEsLi2yflsxYCcjorVbm0t3FHrvdzggOZRxwJG3/G2nn9VUeBY3YUPNTVVwyFp5m//NExJ0SGJJwAN8eTJUC4aCgliwAWH6uBwaLvoASpsT4lRdYZDmbMpxzcSTEpJfqYpcNABj0/fKem7uQMDA2PQZUEQV/+dMucrNqfjswOkyqUcunhk1PoMMvyKBjOqAy//NExKcRiJp8AN7YTMDYzg4RjAmyaGBgGAA+PBCawWADGCwIGJVDDOL/dECsfOWeF513xOisnc8oPjodJgqM//9pMQX+5EvVffdMMASbhIJcFghzCbTn1WOfOCLBIfeo//NExLMSmQKEAN6GcKgl5Mo+IyDtSScKpRQ0uCmsYpIVipZLH0Oa0JZ1TTsjXOzsi9AGojPVhF1Jp///KgJyqCSmrAv////9Klqc7EClm9VKsiQMzAxVzP8CVuYzMW7e//NExLsTyOKQANbScPuvUDnZDfpFIwE5U6HttQZpKWspoCkFjnsg5deXxc5aMSNnL///+VtitkstNXjwwbsTSZmEDix2n8YkBa7jvU85AMW1KqUQMoL9lukset1QvVIK//NExL4U2NaUANaYcCjUlG0Ca2/DgH6y0LGPGLokatjxDc0g5NT///+s0L7LrVB9cTdkvuRhvzoFcnxGGtHqqJcthgEQgatLwx8OW5iCe2xEBOaXUqDYcZ84QQwX0R+E//NExL0Q2MqYAM5YcDzhZcl3rpjJe41u56uu///7W2NffMiodY/KpKK1sFqUJDHB2a8zxiZNYLCDYeQVkPxa12siBD1HSmE0nfKADQJoc2pgeR/VBnop7SQ6pXEP0i1Q//NExMwSMMaYANYecNiGR7w4zUW///3Ake/oqXs1KzBFSIXSeYQ1FpGiqUhWrSIYPD691uJmMJRYxMeLwzT0DyYHgFYYaxo5OMDOdn6vbf5QN2lpV1S+GRkAycgkiHNQ//NExNYR8NKcAMYecGrSMvn/3///f9bsSu22d66/////9SpTadjgiw/W0lC1MORwkMN17LR2JLqLVh6KpK0j8bDZUWnlbgADjGJZLHoAwssPLNShKoXd6h+qIpKpSnNl//NExOEScNqYAM4ecOukthcoM//jg5UFPZDETTn1OKojDC5O2ykzbMSqveIBxyDLUawwAEpUOzQYUzlYVUlkF0FzAOSSQf+869sByK4KR3C+v5tc36TzSwIQjD8OiWgU//NExOoWSZqUANZUlKkuBlFFqDi2C7k9qo9RgmffqSINDlOHdV/xgQkxtE+bSzVX0B8tKrI5ode0ITTJiqySxojxp3hj0v62R8QwVpusHWz5a/8rXfy1/5fRsunX9Wwx//NExOMRmQagAMZScEwMCRnLR3v2e7bFKDOKsstU8AsJ26FqS7h2IGvTN5HhxSWalzAjDZi9T8J1HBFP3OEJNb26MRjodriASUB6WWO1Oa1awu6dtf0//+upbhSNIC9f//NExO8WsTaMANaQcIld+rVvZRPjqiztRsZqs7xvUIlZ3BSmrqHDVD0VaQ4XA2QUqO8ElYrQnxLgMIbEBRtgkJDnkQIsHEk65maNR6+2rvq/T//40qiQDq59RR4xqjRO//NExOcV2ZKIANZElGZ6/p/exiUKjE54xr4o53///eolKUrIhB2TkazKToI3KSNAGE2w5+14mQKmxDwIDAikQTFJAA4AzhC6sUmGkBcGMgkQYuMaoO6f//////to6uBj//NExOIREUKIANaEcAzjpRnlHtJt/rCtgt2HhdS6IQbNapl5RXGZ6kObuUpy/QWPn2sp8VrJvJVDX45jWOZaD+F8dw3gjrVHxLrFo3//+///fU3W3//7K0wIdBZGAKWA//NExPAXQh58ANUKmKLk0f0voKzCqFI11TFl1oRIBiA4PyLRoOUPMKHx6YJglHAwsgKFNFm6OAOMLiZmhsbUScTyYSoKaOjN3o61fc1cvVt765VKj9DGZQrqh1YSg08j//NExOYUIYp8ANTElGZU6Ss7TyjrMq656f6vUVhpssRVM+F+NRSka0sM4TSZ2IPs9UxOUnyunllJhzOnt51AGTB1wYACGGAgQQCMg+7+PydnpoYDgMmnRBAmF12iDHIY//NExOgTSWJ0ANPElMgeTu7iMu78Re979/O7IQ974i9+xH8RDn3sE7v/9o/uIjIy72P+9xD6+vr5d696YQTvYiMdr8Rj3e97u7YghIpIDEXMvGcO0KpO14acSYp6eRX9//NExO0WkU5YANtElM+tyCZuLQWZrk2bEKgs1RIgHRut2xVkWc9Xp23WeO7XXmcTp/OzDZuMlk1+3Z8Po8rbRU6JZEh5n42+iJVVOxCd/Tx7kHBrFLAFScf5KZyjVXvx//NExOUfmxpoAVgwAZoR9bcNxf+HqRRSLi2J6QN/mfJQKx9VH0AlACoI0tltMl4czLCVyuV0bKtTsbL2Lr/NdVLbq9VVKBgI7/9TElYNOPf+WDgiPLBXztEGlA08SneJ//NExLkfKwaUAZkwAVUBoOHGt4vBre+7DqfaeJ5dR/DQ7ds9/ETcBRhqdTRX89nx6z73+9nxRSEBxR1J0DLouYSBOhdT5oUpe1jck2xN8lv/3s2oAc3JKR/F3b4lwGHk//NExI8PELZYAc8YABTbS0mPqkf3QlaDkFYSCfEmlIi/L1Ow+CmPCgNcyytzwMOQqKSRFVfnjor2K9F6lu+ppH6RqjU6Vu27kvtSafuAQwGiihqGDQKjBxApxQkgIGoZ//NExKURgSIQAHmMcNaMxqzCWCqHgIsdEarLRXXq2a1SkyhrJ9j3dnuW9etly0hUYVSEyyLf0Sc15wUGrp7YxKoRK3HsXqeAknkk6VzJxaPDQIoccMpKLZKCco5Rw/Ps//NExLIQWRYEAHjGcGuoA9RRz7nKyCVIV3O1r4vsp11qc+urQXUdGNekecFjSjgKJgpU7cfuxaHahsQwWkgk6aLMZUMLrmo72EEzREjAxcXE5YYdyjAQOAeEWqVIVvYW//NExMMR+LH0AMDGTP9lPjLL0N07rW0ay12h+lakxlUBQPhhiKhxh4gQ86iee2O4oIj4gQgerRY7dk/4TlnIhF9vJvT10JQju76yOq7mSiO9qe7+9V+d6n856rREO71W//NExM4SGI3wAMmGTN7aI7TBG052Bn64AfrNIz/R9r7VA01YnYg2/LA+meSjNLRIVRUxQqBCQWIwaAJIJgEmFByWUNmaI3U8g0aju4u5G0aG8JgFdDoTkkrBUqd/+o8h//NExNgRCK34AMpGTIoGtCoCyDNI8t4zqNu7JIGAYnBEPCYKoA0MvFKiIKMGcTRIYcBQUFQBgoKhUkiSyghRKBTFSrCWFOSSopjTmG0MpIqi3NY1pLLMVS7//43uY1v///NExOYU0nn8AHjEuf/28pbv5//7fd3f///+3vUGyH8NMnhfzcO8wDDNk9EWICMoXKEZdScJ5uSWVq6sMDBBgYJ0sqR//irLLLAYsLCws3iwqKioqKC34sLisVFRb9Qs//NExOUQiFn4AMJGJCrIqz+LC4r/6hYVTEFNRTMuMTAwVVVVVVVVVVVVVVVVVVVVVVVVVVVVVVVVVVVVVVVVVVVVVVVVVVVVVVVVVVVVVVVVVVVVVVVVVVVVVVVVVVVV//NExPUXuKXYAMJGTVVVVVVVVVVVVVVVVVVVVVVVVVVVVVVVVVVVVVVVVVVVVVVVVVVVVVVVVVVVVVVVVVVVVVVVVVVVVVVVVVVVVVVVVVVVVVVVVVVVVVVVVVVVVVVV//NExOkTgP1AAHpGcFVVVVVVVVVVVVVVVVVVVVVVVVVVVVVVVVVVVVVVVVVVVVVVVVVVVVVVVVVVVVVVVVVVVVVVVVVVVVVVVVVVVVVVVVVVVVVVVVVVVVVVVVVVVVVV\" type=\"audio/mpeg\" />\n",
       "                    Your browser does not support the audio element.\n",
       "                </audio>\n",
       "              "
      ],
      "text/plain": [
       "<IPython.lib.display.Audio object>"
      ]
     },
     "execution_count": 32,
     "metadata": {},
     "output_type": "execute_result"
    }
   ],
   "source": [
    "Audio(\"hello.mp3\")"
   ]
  },
  {
   "cell_type": "code",
   "execution_count": 45,
   "metadata": {},
   "outputs": [
    {
     "name": "stdout",
     "output_type": "stream",
     "text": [
      "Say Something: Bomjour, monsingour, cava?\n"
     ]
    },
    {
     "data": {
      "text/html": [
       "\n",
       "                <audio  controls=\"controls\" autoplay=\"autoplay\">\n",
       "                    <source src=\"data:audio/mpeg;base64,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\" type=\"audio/mpeg\" />\n",
       "                    Your browser does not support the audio element.\n",
       "                </audio>\n",
       "              "
      ],
      "text/plain": [
       "<IPython.lib.display.Audio object>"
      ]
     },
     "execution_count": 45,
     "metadata": {},
     "output_type": "execute_result"
    }
   ],
   "source": [
    "file = \"test.mp3\"\n",
    "something = input(\"Say Something: \")\n",
    "file = gtts.gTTS(something, slow=False, lang='fr')\n",
    "file.save(\"test.mp3\")\n",
    "Audio(\"test.mp3\", autoplay=True)"
   ]
  },
  {
   "cell_type": "code",
   "execution_count": 46,
   "metadata": {},
   "outputs": [],
   "source": [
    "def sayit(text, lang='en', autoplay=True):\n",
    "    file = gtts.gTTS(text, lang=lang)\n",
    "    file.save(\"demo.mp3\")    \n",
    "    return Audio(\"demo.mp3\",autoplay=autoplay)"
   ]
  },
  {
   "cell_type": "code",
   "execution_count": 48,
   "metadata": {},
   "outputs": [
    {
     "data": {
      "text/html": [
       "\n",
       "                <audio  controls=\"controls\" autoplay=\"autoplay\">\n",
       "                    <source src=\"data:audio/mpeg;base64,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\" type=\"audio/mpeg\" />\n",
       "                    Your browser does not support the audio element.\n",
       "                </audio>\n",
       "              "
      ],
      "text/plain": [
       "<IPython.lib.display.Audio object>"
      ]
     },
     "execution_count": 48,
     "metadata": {},
     "output_type": "execute_result"
    }
   ],
   "source": [
    "sayit(\"one more time\")\n"
   ]
  },
  {
   "cell_type": "code",
   "execution_count": 49,
   "metadata": {},
   "outputs": [
    {
     "data": {
      "text/html": [
       "\n",
       "                <audio  controls=\"controls\" >\n",
       "                    <source src=\"data:audio/mpeg;base64,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\" type=\"audio/mpeg\" />\n",
       "                    Your browser does not support the audio element.\n",
       "                </audio>\n",
       "              "
      ],
      "text/plain": [
       "<IPython.lib.display.Audio object>"
      ]
     },
     "execution_count": 49,
     "metadata": {},
     "output_type": "execute_result"
    }
   ],
   "source": [
    "sayit(\"this is some good cheese\", autoplay=False)"
   ]
  },
  {
   "cell_type": "code",
   "execution_count": 50,
   "metadata": {},
   "outputs": [
    {
     "data": {
      "text/html": [
       "\n",
       "                <audio  controls=\"controls\" autoplay=\"autoplay\">\n",
       "                    <source src=\"data:audio/mpeg;base64,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\" type=\"audio/mpeg\" />\n",
       "                    Your browser does not support the audio element.\n",
       "                </audio>\n",
       "              "
      ],
      "text/plain": [
       "<IPython.lib.display.Audio object>"
      ]
     },
     "execution_count": 50,
     "metadata": {},
     "output_type": "execute_result"
    }
   ],
   "source": [
    "sayit(\"Hello\", autoplay=True)\n",
    "sayit(\"Are you there?\", autoplay=True)"
   ]
  },
  {
   "cell_type": "code",
   "execution_count": 52,
   "metadata": {},
   "outputs": [
    {
     "data": {
      "text/html": [
       "\n",
       "                <audio  controls=\"controls\" autoplay=\"autoplay\">\n",
       "                    <source src=\"data:audio/mpeg;base64,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\" type=\"audio/mpeg\" />\n",
       "                    Your browser does not support the audio element.\n",
       "                </audio>\n",
       "              "
      ],
      "text/plain": [
       "<IPython.lib.display.Audio object>"
      ]
     },
     "metadata": {},
     "output_type": "display_data"
    },
    {
     "data": {
      "text/html": [
       "\n",
       "                <audio  controls=\"controls\" autoplay=\"autoplay\">\n",
       "                    <source src=\"data:audio/mpeg;base64,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\" type=\"audio/mpeg\" />\n",
       "                    Your browser does not support the audio element.\n",
       "                </audio>\n",
       "              "
      ],
      "text/plain": [
       "<IPython.lib.display.Audio object>"
      ]
     },
     "metadata": {},
     "output_type": "display_data"
    }
   ],
   "source": [
    "from IPython.display import display\n",
    "\n",
    "display(sayit(\"Hello\", autoplay=True))\n",
    "display(sayit(\"Are you there?\", autoplay=True))"
   ]
  },
  {
   "cell_type": "code",
   "execution_count": 41,
   "metadata": {},
   "outputs": [
    {
     "name": "stdout",
     "output_type": "stream",
     "text": [
      "Help on class gTTS in module gtts.tts:\n",
      "\n",
      "class gTTS(builtins.object)\n",
      " |  gTTS(text, tld='com', lang='en', slow=False, lang_check=True, pre_processor_funcs=[<function tone_marks at 0x7fb2a3f660d0>, <function end_of_line at 0x7fb2a3f4c4c0>, <function abbreviations at 0x7fb2a3f4c550>, <function word_sub at 0x7fb2a3f4c5e0>], tokenizer_func=<bound method Tokenizer.run of re.compile('(?<=\\\\?).|(?<=!).|(?<=？).|(?<=！).|(?<!\\\\.[a-z])\\\\. |(?<!\\\\.[a-z]), |(?<!\\\\d):|：|\\\\]|;|\\\\(|¿|—|，|¡|\\\\[|。|‥|\\\\)|،|、|\\\\\\n|…', re.IGNORECASE) from: [<function tone_marks at 0x7fb2a3f4c700>, <function period_comma at 0x7fb2a3f4c790>, <function colon at 0x7fb2a3f4c820>, <function other_punctuation at 0x7fb2a3f4c8b0>]>)\n",
      " |  \n",
      " |  gTTS -- Google Text-to-Speech.\n",
      " |  \n",
      " |  An interface to Google Translate's Text-to-Speech API.\n",
      " |  \n",
      " |  Args:\n",
      " |      text (string): The text to be read.\n",
      " |      tld (string): Top-level domain for the Google Translate host,\n",
      " |          i.e `https://translate.google.<tld>`. Different Google domains\n",
      " |          can produce different localized 'accents' for a given\n",
      " |          language. This is also useful when ``google.com`` might be blocked\n",
      " |          within a network but a local or different Google host\n",
      " |          (e.g. ``google.cn``) is not. Default is ``com``.\n",
      " |      lang (string, optional): The language (IETF language tag) to\n",
      " |          read the text in. Default is ``en``.\n",
      " |      slow (bool, optional): Reads text more slowly. Defaults to ``False``.\n",
      " |      lang_check (bool, optional): Strictly enforce an existing ``lang``,\n",
      " |          to catch a language error early. If set to ``True``,\n",
      " |          a ``ValueError`` is raised if ``lang`` doesn't exist.\n",
      " |          Setting ``lang_check`` to ``False`` skips Web requests\n",
      " |          (to validate language) and therefore speeds up instanciation.\n",
      " |          Default is ``True``.\n",
      " |      pre_processor_funcs (list): A list of zero or more functions that are\n",
      " |          called to transform (pre-process) text before tokenizing. Those\n",
      " |          functions must take a string and return a string. Defaults to::\n",
      " |  \n",
      " |              [\n",
      " |                  pre_processors.tone_marks,\n",
      " |                  pre_processors.end_of_line,\n",
      " |                  pre_processors.abbreviations,\n",
      " |                  pre_processors.word_sub\n",
      " |              ]\n",
      " |  \n",
      " |      tokenizer_func (callable): A function that takes in a string and\n",
      " |          returns a list of string (tokens). Defaults to::\n",
      " |  \n",
      " |              Tokenizer([\n",
      " |                  tokenizer_cases.tone_marks,\n",
      " |                  tokenizer_cases.period_comma,\n",
      " |                  tokenizer_cases.colon,\n",
      " |                  tokenizer_cases.other_punctuation\n",
      " |              ]).run\n",
      " |  \n",
      " |  See Also:\n",
      " |      :doc:`Pre-processing and tokenizing <tokenizer>`\n",
      " |  \n",
      " |  Raises:\n",
      " |      AssertionError: When ``text`` is ``None`` or empty; when there's nothing\n",
      " |          left to speak after pre-precessing, tokenizing and cleaning.\n",
      " |      ValueError: When ``lang_check`` is ``True`` and ``lang`` is not supported.\n",
      " |      RuntimeError: When ``lang_check`` is ``True`` but there's an error loading\n",
      " |          the languages dictionary.\n",
      " |  \n",
      " |  Methods defined here:\n",
      " |  \n",
      " |  __init__(self, text, tld='com', lang='en', slow=False, lang_check=True, pre_processor_funcs=[<function tone_marks at 0x7fb2a3f660d0>, <function end_of_line at 0x7fb2a3f4c4c0>, <function abbreviations at 0x7fb2a3f4c550>, <function word_sub at 0x7fb2a3f4c5e0>], tokenizer_func=<bound method Tokenizer.run of re.compile('(?<=\\\\?).|(?<=!).|(?<=？).|(?<=！).|(?<!\\\\.[a-z])\\\\. |(?<!\\\\.[a-z]), |(?<!\\\\d):|：|\\\\]|;|\\\\(|¿|—|，|¡|\\\\[|。|‥|\\\\)|،|、|\\\\\\n|…', re.IGNORECASE) from: [<function tone_marks at 0x7fb2a3f4c700>, <function period_comma at 0x7fb2a3f4c790>, <function colon at 0x7fb2a3f4c820>, <function other_punctuation at 0x7fb2a3f4c8b0>]>)\n",
      " |      Initialize self.  See help(type(self)) for accurate signature.\n",
      " |  \n",
      " |  get_bodies(self)\n",
      " |      Get TTS API request bodies(s) that would be sent to the TTS API.\n",
      " |      \n",
      " |      Returns:\n",
      " |          list: A list of TTS API request bodiess to make.\n",
      " |  \n",
      " |  save(self, savefile)\n",
      " |      Do the TTS API request and write result to file.\n",
      " |      \n",
      " |      Args:\n",
      " |          savefile (string): The path and file name to save the ``mp3`` to.\n",
      " |      \n",
      " |      Raises:\n",
      " |          :class:`gTTSError`: When there's an error with the API request.\n",
      " |  \n",
      " |  stream(self)\n",
      " |      Do the TTS API request(s) and stream bytes\n",
      " |      \n",
      " |      Raises:\n",
      " |          :class:`gTTSError`: When there's an error with the API request.\n",
      " |  \n",
      " |  write_to_fp(self, fp)\n",
      " |      Do the TTS API request(s) and write bytes to a file-like object.\n",
      " |      \n",
      " |      Args:\n",
      " |          fp (file object): Any file-like object to write the ``mp3`` to.\n",
      " |      \n",
      " |      Raises:\n",
      " |          :class:`gTTSError`: When there's an error with the API request.\n",
      " |          TypeError: When ``fp`` is not a file-like object that takes bytes.\n",
      " |  \n",
      " |  ----------------------------------------------------------------------\n",
      " |  Data descriptors defined here:\n",
      " |  \n",
      " |  __dict__\n",
      " |      dictionary for instance variables (if defined)\n",
      " |  \n",
      " |  __weakref__\n",
      " |      list of weak references to the object (if defined)\n",
      " |  \n",
      " |  ----------------------------------------------------------------------\n",
      " |  Data and other attributes defined here:\n",
      " |  \n",
      " |  GOOGLE_TTS_HEADERS = {'Content-Type': 'application/x-www-form-urlencod...\n",
      " |  \n",
      " |  GOOGLE_TTS_MAX_CHARS = 100\n",
      " |  \n",
      " |  GOOGLE_TTS_RPC = 'jQ1olc'\n",
      "\n"
     ]
    }
   ],
   "source": [
    "help(gtts.gTTS)"
   ]
  },
  {
   "cell_type": "code",
   "execution_count": 53,
   "metadata": {},
   "outputs": [
    {
     "name": "stdout",
     "output_type": "stream",
     "text": [
      "enter something: hdsgsfda\n"
     ]
    }
   ],
   "source": [
    "text = input(\"enter something: \")"
   ]
  },
  {
   "cell_type": "code",
   "execution_count": 57,
   "metadata": {},
   "outputs": [
    {
     "data": {
      "application/vnd.jupyter.widget-view+json": {
       "model_id": "69d091b710f24c2c9017c4c48d3c9f20",
       "version_major": 2,
       "version_minor": 0
      },
      "text/plain": [
       "interactive(children=(Text(value='Bill', description='name'), IntSlider(value=20, description='age', max=60, m…"
      ]
     },
     "metadata": {},
     "output_type": "display_data"
    }
   ],
   "source": [
    "from ipywidgets import interact_manual\n",
    "\n",
    "@interact_manual(name=\"Bill\",age=20)\n",
    "def onclick(name,age):\n",
    "    message = f\"Hello, {name}. You are {age} years old!\"\n",
    "    audio = sayit(message)\n",
    "    display(audio)"
   ]
  },
  {
   "cell_type": "code",
   "execution_count": null,
   "metadata": {},
   "outputs": [],
   "source": []
  }
 ],
 "metadata": {
  "kernelspec": {
   "display_name": "Python 3 (ipykernel)",
   "language": "python",
   "name": "python3"
  },
  "language_info": {
   "codemirror_mode": {
    "name": "ipython",
    "version": 3
   },
   "file_extension": ".py",
   "mimetype": "text/x-python",
   "name": "python",
   "nbconvert_exporter": "python",
   "pygments_lexer": "ipython3",
   "version": "3.9.7"
  },
  "varInspector": {
   "cols": {
    "lenName": 16,
    "lenType": 16,
    "lenVar": 40
   },
   "kernels_config": {
    "python": {
     "delete_cmd_postfix": "",
     "delete_cmd_prefix": "del ",
     "library": "var_list.py",
     "varRefreshCmd": "print(var_dic_list())"
    },
    "r": {
     "delete_cmd_postfix": ") ",
     "delete_cmd_prefix": "rm(",
     "library": "var_list.r",
     "varRefreshCmd": "cat(var_dic_list()) "
    }
   },
   "position": {
    "height": "209.852px",
    "left": "603.5px",
    "right": "20px",
    "top": "120px",
    "width": "329px"
   },
   "types_to_exclude": [
    "module",
    "function",
    "builtin_function_or_method",
    "instance",
    "_Feature"
   ],
   "window_display": false
  }
 },
 "nbformat": 4,
 "nbformat_minor": 4
}
