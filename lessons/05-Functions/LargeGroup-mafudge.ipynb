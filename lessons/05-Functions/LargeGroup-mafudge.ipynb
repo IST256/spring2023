{
 "cells": [
  {
   "cell_type": "markdown",
   "metadata": {},
   "source": [
    "# Code Samples From Large Group\n",
    "\n",
    "Place your notes and code samples from large group here."
   ]
  },
  {
   "cell_type": "code",
   "execution_count": 1,
   "metadata": {},
   "outputs": [],
   "source": [
    "import random\n"
   ]
  },
  {
   "cell_type": "code",
   "execution_count": 2,
   "metadata": {},
   "outputs": [
    {
     "data": {
      "text/plain": [
       "['BPF',\n",
       " 'LOG4',\n",
       " 'NV_MAGICCONST',\n",
       " 'RECIP_BPF',\n",
       " 'Random',\n",
       " 'SG_MAGICCONST',\n",
       " 'SystemRandom',\n",
       " 'TWOPI',\n",
       " '_Sequence',\n",
       " '_Set',\n",
       " '__all__',\n",
       " '__builtins__',\n",
       " '__cached__',\n",
       " '__doc__',\n",
       " '__file__',\n",
       " '__loader__',\n",
       " '__name__',\n",
       " '__package__',\n",
       " '__spec__',\n",
       " '_accumulate',\n",
       " '_acos',\n",
       " '_bisect',\n",
       " '_ceil',\n",
       " '_cos',\n",
       " '_e',\n",
       " '_exp',\n",
       " '_floor',\n",
       " '_inst',\n",
       " '_log',\n",
       " '_os',\n",
       " '_pi',\n",
       " '_random',\n",
       " '_repeat',\n",
       " '_sha512',\n",
       " '_sin',\n",
       " '_sqrt',\n",
       " '_test',\n",
       " '_test_generator',\n",
       " '_urandom',\n",
       " '_warn',\n",
       " 'betavariate',\n",
       " 'choice',\n",
       " 'choices',\n",
       " 'expovariate',\n",
       " 'gammavariate',\n",
       " 'gauss',\n",
       " 'getrandbits',\n",
       " 'getstate',\n",
       " 'lognormvariate',\n",
       " 'normalvariate',\n",
       " 'paretovariate',\n",
       " 'randbytes',\n",
       " 'randint',\n",
       " 'random',\n",
       " 'randrange',\n",
       " 'sample',\n",
       " 'seed',\n",
       " 'setstate',\n",
       " 'shuffle',\n",
       " 'triangular',\n",
       " 'uniform',\n",
       " 'vonmisesvariate',\n",
       " 'weibullvariate']"
      ]
     },
     "execution_count": 2,
     "metadata": {},
     "output_type": "execute_result"
    }
   ],
   "source": [
    "dir(random)"
   ]
  },
  {
   "cell_type": "code",
   "execution_count": 3,
   "metadata": {},
   "outputs": [],
   "source": [
    "random.randint?"
   ]
  },
  {
   "cell_type": "code",
   "execution_count": 6,
   "metadata": {},
   "outputs": [
    {
     "data": {
      "text/plain": [
       "3"
      ]
     },
     "execution_count": 6,
     "metadata": {},
     "output_type": "execute_result"
    }
   ],
   "source": [
    "random.randint(1,10)"
   ]
  },
  {
   "cell_type": "code",
   "execution_count": 10,
   "metadata": {},
   "outputs": [
    {
     "name": "stdout",
     "output_type": "stream",
     "text": [
      "11\n"
     ]
    }
   ],
   "source": [
    "x =10\n",
    "b = x+2\n",
    "number = random.randint(x,b)\n",
    "\n",
    "print(number)"
   ]
  },
  {
   "cell_type": "code",
   "execution_count": 61,
   "metadata": {},
   "outputs": [
    {
     "ename": "KeyboardInterrupt",
     "evalue": "Interrupted by user",
     "output_type": "error",
     "traceback": [
      "\u001b[0;31m---------------------------------------------------------------------------\u001b[0m",
      "\u001b[0;31mKeyboardInterrupt\u001b[0m                         Traceback (most recent call last)",
      "\u001b[0;32m/tmp/ipykernel_148/1290019835.py\u001b[0m in \u001b[0;36m<module>\u001b[0;34m\u001b[0m\n\u001b[0;32m----> 1\u001b[0;31m \u001b[0minput\u001b[0m\u001b[0;34m(\u001b[0m\u001b[0;34m)\u001b[0m\u001b[0;34m\u001b[0m\u001b[0;34m\u001b[0m\u001b[0m\n\u001b[0m",
      "\u001b[0;32m/opt/conda/lib/python3.9/site-packages/ipykernel/kernelbase.py\u001b[0m in \u001b[0;36mraw_input\u001b[0;34m(self, prompt)\u001b[0m\n\u001b[1;32m   1004\u001b[0m                 \u001b[0;34m\"raw_input was called, but this frontend does not support input requests.\"\u001b[0m\u001b[0;34m\u001b[0m\u001b[0;34m\u001b[0m\u001b[0m\n\u001b[1;32m   1005\u001b[0m             )\n\u001b[0;32m-> 1006\u001b[0;31m         return self._input_request(\n\u001b[0m\u001b[1;32m   1007\u001b[0m             \u001b[0mstr\u001b[0m\u001b[0;34m(\u001b[0m\u001b[0mprompt\u001b[0m\u001b[0;34m)\u001b[0m\u001b[0;34m,\u001b[0m\u001b[0;34m\u001b[0m\u001b[0;34m\u001b[0m\u001b[0m\n\u001b[1;32m   1008\u001b[0m             \u001b[0mself\u001b[0m\u001b[0;34m.\u001b[0m\u001b[0m_parent_ident\u001b[0m\u001b[0;34m[\u001b[0m\u001b[0;34m\"shell\"\u001b[0m\u001b[0;34m]\u001b[0m\u001b[0;34m,\u001b[0m\u001b[0;34m\u001b[0m\u001b[0;34m\u001b[0m\u001b[0m\n",
      "\u001b[0;32m/opt/conda/lib/python3.9/site-packages/ipykernel/kernelbase.py\u001b[0m in \u001b[0;36m_input_request\u001b[0;34m(self, prompt, ident, parent, password)\u001b[0m\n\u001b[1;32m   1049\u001b[0m             \u001b[0;32mexcept\u001b[0m \u001b[0mKeyboardInterrupt\u001b[0m\u001b[0;34m:\u001b[0m\u001b[0;34m\u001b[0m\u001b[0;34m\u001b[0m\u001b[0m\n\u001b[1;32m   1050\u001b[0m                 \u001b[0;31m# re-raise KeyboardInterrupt, to truncate traceback\u001b[0m\u001b[0;34m\u001b[0m\u001b[0;34m\u001b[0m\u001b[0m\n\u001b[0;32m-> 1051\u001b[0;31m                 \u001b[0;32mraise\u001b[0m \u001b[0mKeyboardInterrupt\u001b[0m\u001b[0;34m(\u001b[0m\u001b[0;34m\"Interrupted by user\"\u001b[0m\u001b[0;34m)\u001b[0m \u001b[0;32mfrom\u001b[0m \u001b[0;32mNone\u001b[0m\u001b[0;34m\u001b[0m\u001b[0;34m\u001b[0m\u001b[0m\n\u001b[0m\u001b[1;32m   1052\u001b[0m             \u001b[0;32mexcept\u001b[0m \u001b[0mException\u001b[0m\u001b[0;34m:\u001b[0m\u001b[0;34m\u001b[0m\u001b[0;34m\u001b[0m\u001b[0m\n\u001b[1;32m   1053\u001b[0m                 \u001b[0mself\u001b[0m\u001b[0;34m.\u001b[0m\u001b[0mlog\u001b[0m\u001b[0;34m.\u001b[0m\u001b[0mwarning\u001b[0m\u001b[0;34m(\u001b[0m\u001b[0;34m\"Invalid Message:\"\u001b[0m\u001b[0;34m,\u001b[0m \u001b[0mexc_info\u001b[0m\u001b[0;34m=\u001b[0m\u001b[0;32mTrue\u001b[0m\u001b[0;34m)\u001b[0m\u001b[0;34m\u001b[0m\u001b[0;34m\u001b[0m\u001b[0m\n",
      "\u001b[0;31mKeyboardInterrupt\u001b[0m: Interrupted by user"
     ]
    }
   ],
   "source": [
    "input()"
   ]
  },
  {
   "cell_type": "code",
   "execution_count": null,
   "metadata": {},
   "outputs": [],
   "source": []
  },
  {
   "cell_type": "code",
   "execution_count": null,
   "metadata": {},
   "outputs": [],
   "source": []
  },
  {
   "cell_type": "code",
   "execution_count": 11,
   "metadata": {
    "scrolled": true
   },
   "outputs": [
    {
     "name": "stdout",
     "output_type": "stream",
     "text": [
      "Collecting gtts\n",
      "  Downloading gTTS-2.3.1-py3-none-any.whl (28 kB)\n",
      "Collecting requests<3,>=2.27\n",
      "  Downloading requests-2.28.2-py3-none-any.whl (62 kB)\n",
      "     |████████████████████████████████| 62 kB 2.8 MB/s             \n",
      "\u001b[?25hRequirement already satisfied: click<8.2,>=7.1 in /opt/conda/lib/python3.9/site-packages (from gtts) (8.0.3)\n",
      "Requirement already satisfied: urllib3<1.27,>=1.21.1 in /opt/conda/lib/python3.9/site-packages (from requests<3,>=2.27->gtts) (1.26.7)\n",
      "Requirement already satisfied: idna<4,>=2.5 in /opt/conda/lib/python3.9/site-packages (from requests<3,>=2.27->gtts) (3.1)\n",
      "Requirement already satisfied: charset-normalizer<4,>=2 in /opt/conda/lib/python3.9/site-packages (from requests<3,>=2.27->gtts) (2.0.0)\n",
      "Requirement already satisfied: certifi>=2017.4.17 in /opt/conda/lib/python3.9/site-packages (from requests<3,>=2.27->gtts) (2022.12.7)\n",
      "Installing collected packages: requests, gtts\n",
      "  Attempting uninstall: requests\n",
      "    Found existing installation: requests 2.26.0\n",
      "    Uninstalling requests-2.26.0:\n",
      "      Successfully uninstalled requests-2.26.0\n",
      "Successfully installed gtts-2.3.1 requests-2.28.2\n"
     ]
    }
   ],
   "source": [
    "!pip install gtts"
   ]
  },
  {
   "cell_type": "code",
   "execution_count": 31,
   "metadata": {},
   "outputs": [],
   "source": [
    "from gtts import gTTS\n",
    "tts = gTTS(\"Python programming is for losers.\")\n",
    "tts.save(\"hello.mp3\")"
   ]
  },
  {
   "cell_type": "code",
   "execution_count": null,
   "metadata": {},
   "outputs": [],
   "source": [
    "from IPython.display import display,Audio\n",
    "display(Audio(filename=\"hello.mp3\", autoplay=False))"
   ]
  },
  {
   "cell_type": "code",
   "execution_count": 32,
   "metadata": {},
   "outputs": [],
   "source": [
    "def speak(text,autoplay=False):\n",
    "    tts = gTTS(text)\n",
    "    tts.save(\"hello.mp3\")\n",
    "    return Audio(filename=\"hello.mp3\",autoplay=autoplay)"
   ]
  },
  {
   "cell_type": "code",
   "execution_count": 36,
   "metadata": {},
   "outputs": [
    {
     "data": {
      "text/html": [
       "\n",
       "                <audio  controls=\"controls\" autoplay=\"autoplay\">\n",
       "                    <source src=\"data:audio/mpeg;base64,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\" type=\"audio/mpeg\" />\n",
       "                    Your browser does not support the audio element.\n",
       "                </audio>\n",
       "              "
      ],
      "text/plain": [
       "<IPython.lib.display.Audio object>"
      ]
     },
     "execution_count": 36,
     "metadata": {},
     "output_type": "execute_result"
    }
   ],
   "source": [
    "speak(\"Yo Mama!\",autoplay=True)"
   ]
  },
  {
   "cell_type": "code",
   "execution_count": 38,
   "metadata": {},
   "outputs": [
    {
     "data": {
      "text/html": [
       "\n",
       "                <audio  controls=\"controls\" autoplay=\"autoplay\">\n",
       "                    <source src=\"data:audio/mpeg;base64,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\" type=\"audio/mpeg\" />\n",
       "                    Your browser does not support the audio element.\n",
       "                </audio>\n",
       "              "
      ],
      "text/plain": [
       "<IPython.lib.display.Audio object>"
      ]
     },
     "metadata": {},
     "output_type": "display_data"
    },
    {
     "data": {
      "text/html": [
       "\n",
       "                <audio  controls=\"controls\" autoplay=\"autoplay\">\n",
       "                    <source src=\"data:audio/mpeg;base64,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\" type=\"audio/mpeg\" />\n",
       "                    Your browser does not support the audio element.\n",
       "                </audio>\n",
       "              "
      ],
      "text/plain": [
       "<IPython.lib.display.Audio object>"
      ]
     },
     "metadata": {},
     "output_type": "display_data"
    }
   ],
   "source": [
    "from time import sleep\n",
    "display(speak(\"Welcome to class!\", autoplay=True))\n",
    "sleep(2)\n",
    "display(speak(\"This is fun!\", autoplay=True))"
   ]
  },
  {
   "cell_type": "code",
   "execution_count": 39,
   "metadata": {},
   "outputs": [],
   "source": [
    "sleep?"
   ]
  },
  {
   "cell_type": "code",
   "execution_count": 40,
   "metadata": {},
   "outputs": [],
   "source": [
    "def speak(text,autoplay=False):\n",
    "    '''\n",
    "    This function will convert text to speech then return an Audio widget\n",
    "    '''\n",
    "    tts = gTTS(text)\n",
    "    tts.save(\"hello.mp3\")\n",
    "    return Audio(filename=\"hello.mp3\",autoplay=autoplay)"
   ]
  },
  {
   "cell_type": "code",
   "execution_count": 41,
   "metadata": {},
   "outputs": [],
   "source": [
    "speak?"
   ]
  },
  {
   "cell_type": "code",
   "execution_count": 51,
   "metadata": {},
   "outputs": [],
   "source": [
    "def area_of_triangle(base,height):\n",
    "    '''\n",
    "    given a base and height this returns the area of a triangle\n",
    "    '''\n",
    "    area = base * height / 2\n",
    "    return area\n"
   ]
  },
  {
   "cell_type": "code",
   "execution_count": 48,
   "metadata": {},
   "outputs": [
    {
     "data": {
      "text/plain": [
       "0.6666666666666666"
      ]
     },
     "execution_count": 48,
     "metadata": {},
     "output_type": "execute_result"
    }
   ],
   "source": [
    "area_of_triangle(1,1)"
   ]
  },
  {
   "cell_type": "code",
   "execution_count": 49,
   "metadata": {},
   "outputs": [
    {
     "name": "stdout",
     "output_type": "stream",
     "text": [
      "When base = 2 and height = 1, expect area of triangel to be 1, ACTUAL: 1.3333333333333333\n"
     ]
    }
   ],
   "source": [
    "# test print\n",
    "print(\"When base = 2 and height = 1, expect area of triangel to be 1, ACTUAL:\", area_of_triangle(2,1))"
   ]
  },
  {
   "cell_type": "code",
   "execution_count": 52,
   "metadata": {},
   "outputs": [
    {
     "name": "stdout",
     "output_type": "stream",
     "text": [
      "Enter the Base: 10\n",
      "Enter the Height: 5\n",
      "The area of a trangle with base 10.0 and height 5.0 is 25.0\n"
     ]
    }
   ],
   "source": [
    "base = float(input(\"Enter the Base: \"))\n",
    "height = float(input(\"Enter the Height: \"))\n",
    "area = area_of_triangle(base,height)\n",
    "print(f\"The area of a trangle with base {base} and height {height} is {area}\")"
   ]
  },
  {
   "cell_type": "code",
   "execution_count": 56,
   "metadata": {},
   "outputs": [
    {
     "data": {
      "application/vnd.jupyter.widget-view+json": {
       "model_id": "8e397dcf81d144249c9c5b5775c51c4e",
       "version_major": 2,
       "version_minor": 0
      },
      "text/plain": [
       "interactive(children=(IntSlider(value=50, description='base', min=1), IntSlider(value=10, description='height'…"
      ]
     },
     "metadata": {},
     "output_type": "display_data"
    }
   ],
   "source": [
    "from IPython.display import display\n",
    "from ipywidgets import interact_manual\n",
    "\n",
    "@interact_manual(base=(1,100) ,height=10)\n",
    "def onclick(base,height):\n",
    "    area = area_of_triangle(base,height)\n",
    "    display(f\"The area of a trangle with base {base} and height {height} is {area}\")"
   ]
  },
  {
   "cell_type": "code",
   "execution_count": 57,
   "metadata": {},
   "outputs": [],
   "source": [
    "%%pybot interact\n",
    "\n",
    "write an program to input a name and a person's age then print them out"
   ]
  },
  {
   "cell_type": "code",
   "execution_count": 58,
   "metadata": {},
   "outputs": [
    {
     "data": {
      "application/vnd.jupyter.widget-view+json": {
       "model_id": "38a67c70f32f4ecfacecb948ad92f310",
       "version_major": 2,
       "version_minor": 0
      },
      "text/plain": [
       "interactive(children=(Text(value='', description='name'), IntSlider(value=45, description='age', max=99, step=…"
      ]
     },
     "metadata": {},
     "output_type": "display_data"
    }
   ],
   "source": [
    "#AI-Generated Output (Tokens: prompt=116, output=62, over_max=False)\n",
    "from IPython.display import display\n",
    "from ipywidgets import interact_manual\n",
    "\n",
    "@interact_manual(name='',age=(0,99,5))\n",
    "def onclick(name,age):\n",
    "    display(name)\n",
    "    display(age)"
   ]
  },
  {
   "cell_type": "code",
   "execution_count": 60,
   "metadata": {
    "scrolled": true
   },
   "outputs": [
    {
     "data": {
      "application/vnd.jupyter.widget-view+json": {
       "model_id": "aa0cf65ce43143428fd9b63d1a8064b2",
       "version_major": 2,
       "version_minor": 0
      },
      "text/plain": [
       "interactive(children=(Dropdown(description='choice', options=('rock', 'paper', 'scissors'), value='rock'), Tex…"
      ]
     },
     "metadata": {},
     "output_type": "display_data"
    }
   ],
   "source": [
    "choices = ['rock', 'paper', 'scissors']\n",
    "@interact_manual(choice = choices, name=\"tony\", phone=\"\")\n",
    "def onclick(choice, name, phone):\n",
    "    display(choice)"
   ]
  },
  {
   "cell_type": "code",
   "execution_count": null,
   "metadata": {},
   "outputs": [],
   "source": []
  },
  {
   "cell_type": "code",
   "execution_count": 42,
   "metadata": {},
   "outputs": [],
   "source": [
    "%%pybot\n",
    "\n",
    "write code to calculate the area of a triangle"
   ]
  },
  {
   "cell_type": "code",
   "execution_count": null,
   "metadata": {},
   "outputs": [],
   "source": [
    "#AI-Generated Output (Tokens: prompt=12, output=42, over_max=False)\n",
    "def area_triangle(base, height):\n",
    "    area = (base * height) / 2\n",
    "    return area\n",
    "print(area_triangle(5, 4))"
   ]
  },
  {
   "cell_type": "code",
   "execution_count": null,
   "metadata": {},
   "outputs": [],
   "source": []
  },
  {
   "cell_type": "code",
   "execution_count": null,
   "metadata": {},
   "outputs": [],
   "source": []
  },
  {
   "cell_type": "code",
   "execution_count": 34,
   "metadata": {},
   "outputs": [],
   "source": [
    "speak?"
   ]
  },
  {
   "cell_type": "code",
   "execution_count": 15,
   "metadata": {},
   "outputs": [],
   "source": [
    "from gtts import gTTS"
   ]
  },
  {
   "cell_type": "code",
   "execution_count": 25,
   "metadata": {},
   "outputs": [
    {
     "data": {
      "text/plain": [
       "['GOOGLE_TTS_HEADERS',\n",
       " 'GOOGLE_TTS_MAX_CHARS',\n",
       " 'GOOGLE_TTS_RPC',\n",
       " '__class__',\n",
       " '__delattr__',\n",
       " '__dict__',\n",
       " '__dir__',\n",
       " '__doc__',\n",
       " '__eq__',\n",
       " '__format__',\n",
       " '__ge__',\n",
       " '__getattribute__',\n",
       " '__gt__',\n",
       " '__hash__',\n",
       " '__init__',\n",
       " '__init_subclass__',\n",
       " '__le__',\n",
       " '__lt__',\n",
       " '__module__',\n",
       " '__ne__',\n",
       " '__new__',\n",
       " '__reduce__',\n",
       " '__reduce_ex__',\n",
       " '__repr__',\n",
       " '__setattr__',\n",
       " '__sizeof__',\n",
       " '__str__',\n",
       " '__subclasshook__',\n",
       " '__weakref__',\n",
       " '_package_rpc',\n",
       " '_prepare_requests',\n",
       " '_tokenize',\n",
       " 'get_bodies',\n",
       " 'lang',\n",
       " 'lang_check',\n",
       " 'pre_processor_funcs',\n",
       " 'save',\n",
       " 'speed',\n",
       " 'stream',\n",
       " 'text',\n",
       " 'tld',\n",
       " 'tokenizer_func',\n",
       " 'write_to_fp']"
      ]
     },
     "execution_count": 25,
     "metadata": {},
     "output_type": "execute_result"
    }
   ],
   "source": [
    "dir(tts)"
   ]
  },
  {
   "cell_type": "code",
   "execution_count": 26,
   "metadata": {},
   "outputs": [],
   "source": [
    "tts.save?"
   ]
  },
  {
   "cell_type": "code",
   "execution_count": 27,
   "metadata": {},
   "outputs": [],
   "source": [
    "Audio?"
   ]
  },
  {
   "cell_type": "code",
   "execution_count": null,
   "metadata": {},
   "outputs": [],
   "source": []
  },
  {
   "cell_type": "code",
   "execution_count": null,
   "metadata": {},
   "outputs": [],
   "source": []
  },
  {
   "cell_type": "code",
   "execution_count": null,
   "metadata": {},
   "outputs": [],
   "source": []
  },
  {
   "cell_type": "code",
   "execution_count": 3,
   "metadata": {},
   "outputs": [],
   "source": [
    "%%pybot \n",
    "\n",
    "Write a function to calculate the perimeter of a rectangle given length and width as arguments"
   ]
  },
  {
   "cell_type": "code",
   "execution_count": null,
   "metadata": {},
   "outputs": [],
   "source": [
    "#AI-Generated Output (Tokens: prompt=20, output=32, over_max=False)\n",
    "def perimeter(length, width):\n",
    "    return 2 * (length + width)\n",
    "print(perimeter(2, 3))"
   ]
  },
  {
   "cell_type": "code",
   "execution_count": 7,
   "metadata": {},
   "outputs": [],
   "source": [
    "%%pybot interact \n",
    "\n",
    "Write an interact to input length and width as sliders and output the perimeter "
   ]
  },
  {
   "cell_type": "code",
   "execution_count": 9,
   "metadata": {},
   "outputs": [
    {
     "data": {
      "application/vnd.jupyter.widget-view+json": {
       "model_id": "0e7e4ae75d0e4ac589c181a6b4756e4f",
       "version_major": 2,
       "version_minor": 0
      },
      "text/plain": [
       "interactive(children=(IntSlider(value=50, description='length'), IntSlider(value=50, description='width'), But…"
      ]
     },
     "metadata": {},
     "output_type": "display_data"
    }
   ],
   "source": [
    "#AI-Generated Output (Tokens: prompt=115, output=79, over_max=False)\n",
    "from IPython.display import display\n",
    "from ipywidgets import interact_manual\n",
    "@interact_manual(length=(0,100,1),width=(0,100,1))\n",
    "def onclick(length,width):\n",
    "    display(length)\n",
    "    display(width)\n",
    "    perimeter = 2*(length+width)\n",
    "    display(f\"Perimeter: {perimeter}\")"
   ]
  },
  {
   "cell_type": "code",
   "execution_count": null,
   "metadata": {},
   "outputs": [],
   "source": []
  },
  {
   "cell_type": "code",
   "execution_count": null,
   "metadata": {},
   "outputs": [],
   "source": []
  },
  {
   "cell_type": "code",
   "execution_count": null,
   "metadata": {},
   "outputs": [],
   "source": []
  },
  {
   "cell_type": "code",
   "execution_count": null,
   "metadata": {},
   "outputs": [],
   "source": []
  },
  {
   "cell_type": "code",
   "execution_count": null,
   "metadata": {},
   "outputs": [],
   "source": []
  },
  {
   "cell_type": "code",
   "execution_count": null,
   "metadata": {},
   "outputs": [],
   "source": []
  },
  {
   "cell_type": "code",
   "execution_count": null,
   "metadata": {},
   "outputs": [],
   "source": []
  }
 ],
 "metadata": {
  "kernelspec": {
   "display_name": "Python 3 (ipykernel)",
   "language": "python",
   "name": "python3"
  },
  "language_info": {
   "codemirror_mode": {
    "name": "ipython",
    "version": 3
   },
   "file_extension": ".py",
   "mimetype": "text/x-python",
   "name": "python",
   "nbconvert_exporter": "python",
   "pygments_lexer": "ipython3",
   "version": "3.9.7"
  },
  "varInspector": {
   "cols": {
    "lenName": 16,
    "lenType": 16,
    "lenVar": 40
   },
   "kernels_config": {
    "python": {
     "delete_cmd_postfix": "",
     "delete_cmd_prefix": "del ",
     "library": "var_list.py",
     "varRefreshCmd": "print(var_dic_list())"
    },
    "r": {
     "delete_cmd_postfix": ") ",
     "delete_cmd_prefix": "rm(",
     "library": "var_list.r",
     "varRefreshCmd": "cat(var_dic_list()) "
    }
   },
   "position": {
    "height": "209.852px",
    "left": "603.5px",
    "right": "20px",
    "top": "120px",
    "width": "329px"
   },
   "types_to_exclude": [
    "module",
    "function",
    "builtin_function_or_method",
    "instance",
    "_Feature"
   ],
   "window_display": false
  }
 },
 "nbformat": 4,
 "nbformat_minor": 4
}
