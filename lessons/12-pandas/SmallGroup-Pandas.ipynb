{
 "cells": [
  {
   "cell_type": "markdown",
   "metadata": {},
   "source": [
    "# Now You Code In Class: Tricks of The Pandas Masters\n",
    "\n",
    "We will try something a bit different in the Activity - A series of Pandas coding challenges!\n",
    "\n",
    "\n",
    "For this Now You Code, you will need the Zomato api https://developers.zomato.com/api which provides API access to local area restaurants information.\n"
   ]
  },
  {
   "cell_type": "code",
   "execution_count": null,
   "metadata": {},
   "outputs": [],
   "source": [
    "import pandas as pd\n",
    "import import_ipynb\n",
    "import googleapi as google\n",
    "import requests\n",
    "\n",
    "pd.set_option('display.max_colwidth', None)\n",
    "google_api_key = ''"
   ]
  },
  {
   "cell_type": "markdown",
   "metadata": {},
   "source": [
    "## Warm-Up 1\n",
    "\n",
    "Load the following data set into a data frame, called `exam_df`\n",
    "\n",
    "https://raw.githubusercontent.com/mafudge/datasets/master/exam-scores/exam-scores.csv\n",
    "\n",
    "HINT: observe the file format!"
   ]
  },
  {
   "cell_type": "code",
   "execution_count": null,
   "metadata": {},
   "outputs": [],
   "source": [
    "# one liner\n",
    "file = \"https://raw.githubusercontent.com/mafudge/datasets/master/exam-scores/exam-scores.csv\"\n",
    "exam_df = pd.read_csv(file)"
   ]
  },
  {
   "cell_type": "code",
   "execution_count": null,
   "metadata": {},
   "outputs": [],
   "source": [
    "from IPython.display import display\n",
    "display(exam_df)"
   ]
  },
  {
   "cell_type": "markdown",
   "metadata": {},
   "source": [
    "## Warm-Up 2\n",
    "\n",
    "Load the following HTML table into a data frame called `res_df`\n",
    "\n",
    "https://en.wikipedia.org/wiki/Graphics_display_resolution#High-definition\n",
    "\n",
    "HINT: Which table is it on the page?"
   ]
  },
  {
   "cell_type": "code",
   "execution_count": null,
   "metadata": {},
   "outputs": [],
   "source": [
    "link = \"https://en.wikipedia.org/wiki/Graphics_display_resolution#High-definition\"\n",
    "res_df = pd.read_html(link)\n",
    "\n",
    "res_df[4]"
   ]
  },
  {
   "cell_type": "code",
   "execution_count": null,
   "metadata": {},
   "outputs": [],
   "source": [
    "baseballgame = \"https://www.espn.com/mlb/boxscore/_/gameId/401430916\"\n",
    "bb_df = pd.read_html(baseballgame)\n",
    "bb_df[1]"
   ]
  },
  {
   "cell_type": "code",
   "execution_count": null,
   "metadata": {},
   "outputs": [],
   "source": [
    "dbacks = bb_df[1]\n",
    "db2 = dbacks[ dbacks['Hitters'] != 'TEAM'] \n",
    "db2['H'].sum()"
   ]
  },
  {
   "cell_type": "code",
   "execution_count": null,
   "metadata": {},
   "outputs": [],
   "source": [
    "db2.iloc[3:]"
   ]
  },
  {
   "cell_type": "code",
   "execution_count": null,
   "metadata": {},
   "outputs": [],
   "source": [
    "names = [ \"tom\", \"tim\", \"pete\"]\n",
    "names[:-1]"
   ]
  },
  {
   "cell_type": "markdown",
   "metadata": {},
   "source": [
    "## Warm-Up 3\n",
    "\n",
    "For your `exam_df` display exams where the students made their own study guide  and finished in 30 minutes or less.\n",
    "\n",
    "HINT: This can be multiple steps\n"
   ]
  },
  {
   "cell_type": "code",
   "execution_count": null,
   "metadata": {},
   "outputs": [],
   "source": [
    "exam_df.columns\n",
    "exam_df[ exam_df['Made_Own_Study_Guide']=='Y' ][ exam_df['Completion_Time'] <=30 ]"
   ]
  },
  {
   "cell_type": "code",
   "execution_count": null,
   "metadata": {},
   "outputs": [],
   "source": [
    "exam_df[ (exam_df['Made_Own_Study_Guide']=='Y') & (exam_df['Completion_Time']<=30) ]"
   ]
  },
  {
   "cell_type": "code",
   "execution_count": null,
   "metadata": {},
   "outputs": [],
   "source": [
    "exam_df[ (exam_df.Made_Own_Study_Guide=='Y') & (exam_df.Completion_Time<=30) ]"
   ]
  },
  {
   "cell_type": "markdown",
   "metadata": {},
   "source": [
    "## Warm-Up 4\n",
    "\n",
    "For your `res_df`, display the displays which are larger than 1920 x 1080. Show columns `Name` and `H:V` only\n",
    "\n",
    "HINT: Again, think multiple steps"
   ]
  },
  {
   "cell_type": "code",
   "execution_count": null,
   "metadata": {},
   "outputs": [],
   "source": []
  },
  {
   "cell_type": "markdown",
   "metadata": {
    "collapsed": true,
    "slideshow": {
     "slide_type": "slide"
    }
   },
   "source": [
    "## Challenge 1\n",
    "\n",
    "1. Search the Open Street Maps  geocode api for \"Syracuse\" (leave off the NY) put the results in a dataframe (there should be several results). \n",
    "\n",
    "Example:\n",
    "https://nominatim.openstreetmap.org/search?q=Syracuse&format=json\n"
   ]
  },
  {
   "cell_type": "code",
   "execution_count": null,
   "metadata": {},
   "outputs": [],
   "source": [
    "source = \"https://nominatim.openstreetmap.org/search?q=Syracuse&format=json\"\n",
    "search = pd.read_json(source)\n",
    "search"
   ]
  },
  {
   "cell_type": "code",
   "execution_count": null,
   "metadata": {},
   "outputs": [],
   "source": [
    "import requests\n",
    "source = \"https://nominatim.openstreetmap.org/search?q=Syracuse&format=json\"\n",
    "response = requests.get(source)\n",
    "response.raise_for_status()\n",
    "data = response.json()\n",
    "\n",
    "search = pd.DataFrame(data)\n",
    "\n",
    "search.sample()"
   ]
  },
  {
   "cell_type": "markdown",
   "metadata": {},
   "source": [
    "## Challenge 2\n",
    "\n",
    "1. Load the locations into a dataframe. using the `pd.DataFrame()` method. Start with whatever is of type `list` as that will automatically place it into a `DataFrame` "
   ]
  },
  {
   "cell_type": "code",
   "execution_count": null,
   "metadata": {},
   "outputs": [],
   "source": []
  },
  {
   "cell_type": "markdown",
   "metadata": {},
   "source": [
    "## Challenge 3\n",
    "\n",
    "1. Let's call the IST256 google places search api, looking for bars in the Syracuse NY area, and load the results into a dataframe. You can call `google.googlePlacesSearch()` With these inputs lat=`43.0481`, lng=`-76.1474`, type=`'bar'`\n",
    "\n"
   ]
  },
  {
   "cell_type": "code",
   "execution_count": null,
   "metadata": {
    "scrolled": false
   },
   "outputs": [],
   "source": [
    "import json\n",
    "data = google.googlePlacesSearch(google_api_key=google_api_key,lat=43.0481, lng=-76.1474, place_type='food')\n",
    "with open('google-places.json','w') as f:\n",
    "    json.dump(data,f)"
   ]
  },
  {
   "cell_type": "code",
   "execution_count": null,
   "metadata": {},
   "outputs": [],
   "source": [
    "data"
   ]
  },
  {
   "cell_type": "code",
   "execution_count": null,
   "metadata": {},
   "outputs": [],
   "source": [
    "weather"
   ]
  },
  {
   "cell_type": "code",
   "execution_count": null,
   "metadata": {},
   "outputs": [],
   "source": [
    "import datetime\n",
    "def getweather(lat,lon):\n",
    "    key = '67f9d45c32dd086df27f2b7a90370a8e' # sign up for your own key at https://openweathermap.org/ \n",
    "    query_string = { 'lat' : lat, 'lon': lon, 'appid' : key, 'units' : 'imperial'}\n",
    "    url='https://api.openweathermap.org/data/2.5/onecall' \n",
    "    response = requests.get(url, params=query_string)\n",
    "    response.raise_for_status()\n",
    "    #print (response.url)\n",
    "    weather = response.json()\n",
    "    return weather\n",
    "\n",
    "# Testing with syracuse, NY coordinates\n",
    "weather = getweather( 43.0481221, -76.1474244 )\n",
    "hourly_weather = pd.json_normalize(weather['daily'])\n",
    "hourly_weather['day'] = hourly_weather.apply( lambda row: datetime.datetime.fromtimestamp(row['dt']).strftime('%A'), axis=1)\n",
    "hourly_weather"
   ]
  },
  {
   "cell_type": "code",
   "execution_count": null,
   "metadata": {},
   "outputs": [],
   "source": [
    "sometime = 1650474000\n",
    "import datetime\n",
    "time = datetime.datetime.fromtimestamp(sometime)\n",
    "time.strftime('%A')\n"
   ]
  },
  {
   "cell_type": "markdown",
   "metadata": {},
   "source": [
    "## Challenge 4\n",
    "\n",
    "Notice the nested JSON. Yuk. This can be fixed using `pd.json_normalize` instead of `pd.DataFrame`.\n",
    "\n",
    "Fix the results above so that the nested JSON is flattened in the dataframe.\n"
   ]
  },
  {
   "cell_type": "code",
   "execution_count": null,
   "metadata": {},
   "outputs": [],
   "source": [
    "dw = pd.json_normalize(weather['daily'])\n",
    "dw\n"
   ]
  },
  {
   "cell_type": "markdown",
   "metadata": {},
   "source": [
    "## Challenge 5\n",
    "\n",
    "Convert your dataframe back into a list of dict.\n",
    "\n",
    "1. use `to_records()` to convert the dataframe in Challenge 4 back into a `list` of `dict`.\n",
    "2. loop over the rows and print the bar name, rating, and whether it is open now, \n",
    "   for only those rows where the bar is open now.\n",
    "\n",
    "NOTE: The keys match he columns in the data frame.\n",
    "\n"
   ]
  },
  {
   "cell_type": "code",
   "execution_count": null,
   "metadata": {},
   "outputs": [],
   "source": [
    "from IPython.display import display,Image,YouTube\n",
    "\n",
    "display(Image(\"http://openweathermap.org/img/wn/10d@2x.png\"))"
   ]
  },
  {
   "cell_type": "code",
   "execution_count": null,
   "metadata": {},
   "outputs": [],
   "source": [
    "weather['daily']"
   ]
  },
  {
   "cell_type": "code",
   "execution_count": null,
   "metadata": {},
   "outputs": [],
   "source": [
    "# run this code to turn in your work!\n",
    "from coursetools.submission import Submission\n",
    "Submission().submit_now()"
   ]
  }
 ],
 "metadata": {
  "anaconda-cloud": {},
  "kernelspec": {
   "display_name": "Python 3 (ipykernel)",
   "language": "python",
   "name": "python3"
  },
  "language_info": {
   "codemirror_mode": {
    "name": "ipython",
    "version": 3
   },
   "file_extension": ".py",
   "mimetype": "text/x-python",
   "name": "python",
   "nbconvert_exporter": "python",
   "pygments_lexer": "ipython3",
   "version": "3.9.7"
  },
  "toc": {
   "base_numbering": 1,
   "nav_menu": {},
   "number_sections": false,
   "sideBar": false,
   "skip_h1_title": false,
   "title_cell": "Table of Contents",
   "title_sidebar": "Contents",
   "toc_cell": false,
   "toc_position": {},
   "toc_section_display": false,
   "toc_window_display": false
  },
  "varInspector": {
   "cols": {
    "lenName": 16,
    "lenType": 16,
    "lenVar": 40
   },
   "kernels_config": {
    "python": {
     "delete_cmd_postfix": "",
     "delete_cmd_prefix": "del ",
     "library": "var_list.py",
     "varRefreshCmd": "print(var_dic_list())"
    },
    "r": {
     "delete_cmd_postfix": ") ",
     "delete_cmd_prefix": "rm(",
     "library": "var_list.r",
     "varRefreshCmd": "cat(var_dic_list()) "
    }
   },
   "types_to_exclude": [
    "module",
    "function",
    "builtin_function_or_method",
    "instance",
    "_Feature"
   ],
   "window_display": false
  }
 },
 "nbformat": 4,
 "nbformat_minor": 1
}
